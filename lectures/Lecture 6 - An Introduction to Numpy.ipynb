{
 "cells": [
  {
   "cell_type": "markdown",
   "id": "dc87ce12",
   "metadata": {},
   "source": [
    "# An Introduction to Numpy"
   ]
  },
  {
   "cell_type": "markdown",
   "id": "451baf43",
   "metadata": {},
   "source": [
    "## 1. Preface: On Tensors and Arrays"
   ]
  },
  {
   "cell_type": "markdown",
   "id": "42594df5",
   "metadata": {},
   "source": [
    "__TL;DR__ Some Deep Learning folks have transformed the term _tensor_ into a fancy buzzword. Do not use it outside its precise scope."
   ]
  },
  {
   "cell_type": "markdown",
   "id": "50f6ab3e",
   "metadata": {},
   "source": [
    "As we are going to see in this lecture, the central concept in NumPy is that of [__ndarray__](https://numpy.org/doc/stable/reference/arrays.ndarray.html#arrays-ndarray). According to NumPy's documentation, an __ndarray__ is _a multi-dimensional container of iterms of same type and size_. In a certain sense, this makes low-level optimization of your code easier.\n",
    "\n",
    "The fact that NumPy arrays are containers makes it easy to make a parallel between this data type, vectors, matrices and linear transformations. The discussion in this section makes a brief detour around concepts in mathematics, to make it clear that throughout Deep Learning litterature __(almost) anyone is really using the concept of a tensor (!!!)__. Let us begin with some definitions,"
   ]
  },
  {
   "cell_type": "markdown",
   "id": "0bf8eef3",
   "metadata": {},
   "source": [
    "__Def 1 (Vector Space).__ A vector space (over $\\mathbb{R}$) is a non-empty set $V$ toghether with operations $(+,\\cdot)$, called vector addition and multiplication by a scalar, s.t.,\n",
    "\n",
    "1. __Associativity.__ For $u, v, w \\in V$, $u + (v + w) = (u + v) + w$\n",
    "2. __Commutatitivy.__ For $u, v \\in V$, $u + v = v + u$\n",
    "3. __Identity of Addition.__ $\\exists 0 \\in V$ s.t. $0 + v = v\\text{, } \\forall v \\in V$\n",
    "4. __Identity of Scalar Mul.__ $\\exists 1 \\in V$ s.t. $1 \\cdot v = v\\text{, } \\forall v \\in V$\n",
    "5. __Inverse of Addition.__ $\\forall v \\in V$, $\\exists (-v) \\in V$ s.t. $v + (-v) = 0$\n",
    "6. __Distributivity (addition).__ $a(u + v) = au + av$, $\\forall a \\in \\mathbb{R}$, $\\forall u, v \\in V$\n",
    "7. __Distributivity (mul.).__ $(a + b)u = au + bu$, $\\forall a, b \\in \\mathbb{R}$, $\\forall u \\in V$\n",
    "\n",
    "__Remark.__ This definition is quite abstract, and comprehends different objects in mathematics. For instance, for $I \\subset \\mathbb{R}$, the set $C(I) = \\{f:I\\rightarrow\\mathbb{R}/f\\text{ is continuous}\\}$ is a vector space. On another flavor, $d-$dimensional Euclidean spaces, $\\mathbb{R}^{d}$, are vector spaces."
   ]
  },
  {
   "cell_type": "markdown",
   "id": "5a74b544",
   "metadata": {},
   "source": [
    "From the above remark, we note that there is a difference between a vector $\\mathbf{x} \\in \\mathbb{R}^{d}$, and the __array__ of its components, i.e., $[x_{1}, x_{2}, \\cdots, x_{d}]$. The object is __independent on the choice of basis__, meaning that we can choose whatever linear independent basis for $\\mathbf{x}$, it will still behave as a vector (i.e., it will suffice the 7 axioms in Def 1). This is a huge different w.r.t. the array of its components. Especially, the array representation of $\\mathbf{x}$, i.e., $[x_{1}, x_{2}, \\cdots, x_{d}]$, depends completely on the choice of basis. Usually, when we denote a vector in such a way, we are using the canonical basis, i.e.,\n",
    "\n",
    "$$\\mathbf{x} = \\sum_{i=1}^{d}x_{i}\\mathbf{e}_{i}$$\n",
    "\n",
    "where the vector $\\mathcal{E} = \\{\\mathbf{e}_{i}\\}_{i=1}^{d}$, $\\mathbf{e}_{i} \\in \\mathbb{R}^{d}$, are such that, $(e_{i})_{j} = \\delta(i-j)$"
   ]
  },
  {
   "cell_type": "markdown",
   "id": "ad1278e7",
   "metadata": {},
   "source": [
    "The same remark works for __Linear Transformations__. Recall that a Linear transformation is a function between two vector spaces, that is,\n",
    "\n",
    "__Def 2 (Linear Transformation)__ Let $V$ and $W$ be two vector spaces over $\\mathbb{R}$. A linear transformation is a function $L:V \\rightarrow W$ such that,\n",
    "\n",
    "$$L(au + v) = aL(u) + L(v)$$"
   ]
  },
  {
   "cell_type": "markdown",
   "id": "746d4a20",
   "metadata": {},
   "source": [
    "__The case of Euclidean Spaces.__ On one hand, this definition of $L$ is __independent__ on the choice of basis on both $V$ and $W$. On the other hand, for fixed basis on $V$ and $W$ [one can associate](https://en.wikipedia.org/wiki/Transformation_matrix) the linear map $L$ to a matrix $\\mathbf{L} \\in \\mathbb{R}^{d_{1} \\times d_{2}}$, which explicitly depends on the basis choice."
   ]
  },
  {
   "cell_type": "markdown",
   "id": "b579353a",
   "metadata": {},
   "source": [
    "__Conclusion.__ From this discussion, we have established 2 differences,\n",
    "\n",
    "- A vector is an element of a vector space. It is an abstract object that obeys certain rules, and is independent on the choice of basis. In an Euclidean setting, the vector is __represented__ through a __1D array of numbers__.\n",
    "- A linear transform is a function between vector spaces that obeys __linearity__, and is independent on the choice of basis for both its domain and image spaces. In an Euclidean setting, the linear transform is __represented__ through a __2D array of numbers__.\n",
    "\n",
    "We __do not stop at 1D and 2D__. Usually, in mathematics the concept of __tensor__ is used for __multi-linear relationships__ (i.e., more than 2) that are __independent on the choice of basis__. For a fixed basis, in an Euclidean setting, __a tensor may be represented through a $n-$dimensional array__. The name tensor, widely used in Deep Learning, comes from this association.\n",
    "\n",
    "__The Problem.__ Usually, if there is no indication that a _tensor treatment_ is necessary (e.g., describing variables in a basis-free framework) one should avoid using the _tensor terminology_. The more correct term would be __n-dimensional array__."
   ]
  },
  {
   "cell_type": "markdown",
   "id": "0a38972b",
   "metadata": {},
   "source": [
    "## 2. Going Low Level - Why NumPy?"
   ]
  },
  {
   "cell_type": "markdown",
   "id": "e5f25910",
   "metadata": {},
   "source": [
    "__Def 3 (Buffer)__ In computer science, a data buffer (or just buffer) is a region of a memory used to store data temporarily while it is being moved from one place to another.\n",
    "\n",
    "Source: https://en.wikipedia.org/wiki/Data_buffer\n",
    "\n",
    "NumPy's (Numeric Python) cornerstone is based on __ndarrays__. An __ndarray__ consists on two components,\n",
    "\n",
    "- The raw data array, called data buffer,\n",
    "- The information about the data buffer,\n",
    "\n",
    "The idea of data buffer used in NumPy comes from C. When one __instantiates__ an __ndarray__, one creates a [__contiguous__](https://numpy.org/doc/stable/glossary.html#term-contiguous) and fixed block of memory. The second component contains meta-data on how to interpret the elements in a __ndarray__.\n",
    "\n",
    "NumPy's implementation comes from C code, which is much more performant than pure Python. From a low level perspective, all __ndarrays__ are seen as \"chunks\" of memory, which are acessed using strides. For instance, one can make an analogy to [row and column-major orderings of matrices](https://en.wikipedia.org/wiki/Row-_and_column-major_order)."
   ]
  },
  {
   "cell_type": "markdown",
   "id": "5286dc9d",
   "metadata": {},
   "source": [
    "### 2.1. An Introductory Example"
   ]
  },
  {
   "cell_type": "markdown",
   "id": "72234170",
   "metadata": {},
   "source": [
    "In this preliminary example, we are going to explore a Random Walk. This corresponds to Sec. 2.1 of [From Python to NumPy](https://www.labri.fr/perso/nrougier/from-python-to-numpy/).\n",
    "\n",
    "__Def 3 (Discrete Random Walk)__ Let $n_{0} \\in \\mathbb{Z}$. A random walk is a sequence of steps $\\{n_{t}\\}_{t=1}^{T}$ such that,\n",
    "\n",
    "$$\n",
    "n_{t+1}=\\begin{cases}\n",
    "n_{t} + 1&\\text{w/ prob. }0.5,\\\\\n",
    "n_{t} - 1&\\text{w/ prob. }0.5,\n",
    "\\end{cases}\n",
    "$$"
   ]
  },
  {
   "cell_type": "code",
   "execution_count": 3,
   "id": "8f3abcf7",
   "metadata": {},
   "outputs": [],
   "source": [
    "import random\n",
    "import numpy as np\n",
    "from itertools import accumulate"
   ]
  },
  {
   "cell_type": "code",
   "execution_count": 9,
   "id": "9a0a8861",
   "metadata": {},
   "outputs": [
    {
     "name": "stdout",
     "output_type": "stream",
     "text": [
      "346 µs ± 757 ns per loop (mean ± std. dev. of 7 runs, 1000 loops each)\n"
     ]
    }
   ],
   "source": [
    "%%timeit\n",
    "\n",
    "n0 = 0\n",
    "n = 0\n",
    "\n",
    "random_walk = []\n",
    "for _ in range(1000):\n",
    "    n = n + (2 * random.randint(0, 1) - 1)\n",
    "    random_walk.append(n)"
   ]
  },
  {
   "cell_type": "markdown",
   "id": "1f92f423",
   "metadata": {},
   "source": [
    "we can improve the execution of this code by noting the following,\n",
    "\n",
    "$$n_{t+1} = n_{t} + \\epsilon_{t}$$\n",
    "\n",
    "where $\\epsilon_{t} = choice(-1, 1)$. As a consequence, we may __unwrap__ the temporal variable:\n",
    "\n",
    "$$n_{t+1} = n_{t} + \\epsilon_{t} = n_{t-1} + \\epsilon_{t-1} + \\epsilon_{t}$$\n",
    "\n",
    "we may repeat this until we reach $n_{0}$,\n",
    "\n",
    "$$n_{t+1} = n_{0} + \\sum_{i=0}^{t}e_{i}$$\n",
    "\n",
    "__if we know in advance__ the sequence $\\{e_{0},\\cdots,e_{t}\\}$, we can use the following,"
   ]
  },
  {
   "cell_type": "code",
   "execution_count": 9,
   "id": "19edf2f1",
   "metadata": {},
   "outputs": [
    {
     "name": "stdout",
     "output_type": "stream",
     "text": [
      "60.7 µs ± 515 ns per loop (mean ± std. dev. of 7 runs, 10,000 loops each)\n"
     ]
    }
   ],
   "source": [
    "%%timeit\n",
    "\n",
    "n0 = 0\n",
    "\n",
    "# Second implementation: accumulation\n",
    "steps = random.choices([-1, 1], k=1000)\n",
    "random_walk = [0] + list(accumulate(steps))"
   ]
  },
  {
   "cell_type": "markdown",
   "id": "2f2cfb55",
   "metadata": {},
   "source": [
    "Finally, we can repeat all of these using NumPy's Cumsum function,"
   ]
  },
  {
   "cell_type": "code",
   "execution_count": 10,
   "id": "e1fbcc50",
   "metadata": {},
   "outputs": [
    {
     "name": "stdout",
     "output_type": "stream",
     "text": [
      "10.8 µs ± 17.5 ns per loop (mean ± std. dev. of 7 runs, 100,000 loops each)\n"
     ]
    }
   ],
   "source": [
    "%%timeit\n",
    "\n",
    "n0 = 0\n",
    "\n",
    "# Third implementation: cumsum\n",
    "steps = np.random.choice([-1, 1], size=1000)\n",
    "random_walk = n0 + np.cumsum(steps)"
   ]
  },
  {
   "cell_type": "markdown",
   "id": "33873482",
   "metadata": {},
   "source": [
    "### 2.2. NumPy Arrays (ndarrays)"
   ]
  },
  {
   "cell_type": "code",
   "execution_count": 1,
   "id": "bfdbc449",
   "metadata": {},
   "outputs": [],
   "source": [
    "import numpy as np"
   ]
  },
  {
   "cell_type": "markdown",
   "id": "ae28af28",
   "metadata": {},
   "source": [
    "The most basic declaration of a numpy array is through a list. For instance,"
   ]
  },
  {
   "cell_type": "code",
   "execution_count": 11,
   "id": "d12d3235",
   "metadata": {},
   "outputs": [
    {
     "data": {
      "text/plain": [
       "array([1, 2, 3, 4])"
      ]
     },
     "execution_count": 11,
     "metadata": {},
     "output_type": "execute_result"
    }
   ],
   "source": [
    "a = np.array([1, 2, 3, 4])\n",
    "a"
   ]
  },
  {
   "cell_type": "markdown",
   "id": "4529be52",
   "metadata": {},
   "source": [
    "in this case, you can index the numpy array like a list,"
   ]
  },
  {
   "cell_type": "code",
   "execution_count": 4,
   "id": "fc4f7289",
   "metadata": {},
   "outputs": [
    {
     "name": "stdout",
     "output_type": "stream",
     "text": [
      "1 2 3\n"
     ]
    }
   ],
   "source": [
    "print(a[0], a[1], a[2])"
   ]
  },
  {
   "cell_type": "markdown",
   "id": "38e1b59b",
   "metadata": {},
   "source": [
    "as mentioned previously, numpy arrays have a fixed data type. In the previous case we declared an array of ints,"
   ]
  },
  {
   "cell_type": "code",
   "execution_count": 5,
   "id": "52223fab",
   "metadata": {},
   "outputs": [
    {
     "data": {
      "text/plain": [
       "dtype('int64')"
      ]
     },
     "execution_count": 5,
     "metadata": {},
     "output_type": "execute_result"
    }
   ],
   "source": [
    "a.dtype"
   ]
  },
  {
   "cell_type": "markdown",
   "id": "9625fb59",
   "metadata": {},
   "source": [
    "here, we're using 64 bit integers as the data type of our array. Other data types (dtypes) are supported as well. You can cast a numpy array with,"
   ]
  },
  {
   "cell_type": "code",
   "execution_count": 9,
   "id": "886fb7ab",
   "metadata": {},
   "outputs": [
    {
     "data": {
      "text/plain": [
       "array([1., 2., 3., 4.], dtype=float32)"
      ]
     },
     "execution_count": 9,
     "metadata": {},
     "output_type": "execute_result"
    }
   ],
   "source": [
    "a.astype(np.float32)"
   ]
  },
  {
   "cell_type": "markdown",
   "id": "9317773f",
   "metadata": {},
   "source": [
    "note that this operation __creates__ a new array. You can check that below,"
   ]
  },
  {
   "cell_type": "code",
   "execution_count": 10,
   "id": "d9ab3552",
   "metadata": {},
   "outputs": [
    {
     "data": {
      "text/plain": [
       "array([1, 2, 3, 4])"
      ]
     },
     "execution_count": 10,
     "metadata": {},
     "output_type": "execute_result"
    }
   ],
   "source": [
    "a"
   ]
  },
  {
   "cell_type": "markdown",
   "id": "b0331ca2",
   "metadata": {},
   "source": [
    "when possible, numpy will cast your data to float,"
   ]
  },
  {
   "cell_type": "code",
   "execution_count": 12,
   "id": "f9789a06",
   "metadata": {},
   "outputs": [
    {
     "data": {
      "text/plain": [
       "array([0., 1., 2., 3.])"
      ]
     },
     "execution_count": 12,
     "metadata": {},
     "output_type": "execute_result"
    }
   ],
   "source": [
    "a = np.array([0, 1., 2, 3.])\n",
    "a"
   ]
  },
  {
   "cell_type": "markdown",
   "id": "05b469af",
   "metadata": {},
   "source": [
    "as well as complex,"
   ]
  },
  {
   "cell_type": "code",
   "execution_count": 13,
   "id": "4dd65987",
   "metadata": {},
   "outputs": [
    {
     "data": {
      "text/plain": [
       "array([0.+0.j, 1.+1.j])"
      ]
     },
     "execution_count": 13,
     "metadata": {},
     "output_type": "execute_result"
    }
   ],
   "source": [
    "a = np.array([0., 1.+1.j])\n",
    "a"
   ]
  },
  {
   "cell_type": "code",
   "execution_count": 14,
   "id": "2161cd91",
   "metadata": {},
   "outputs": [
    {
     "data": {
      "text/plain": [
       "dtype('complex128')"
      ]
     },
     "execution_count": 14,
     "metadata": {},
     "output_type": "execute_result"
    }
   ],
   "source": [
    "a.dtype"
   ]
  },
  {
   "cell_type": "markdown",
   "id": "c2f9fba2",
   "metadata": {},
   "source": [
    "unlike pure Python (that does not support casting complex numbers), you can cast complex back into float,"
   ]
  },
  {
   "cell_type": "code",
   "execution_count": 15,
   "id": "0c65294e",
   "metadata": {},
   "outputs": [
    {
     "name": "stderr",
     "output_type": "stream",
     "text": [
      "/tmp/ipykernel_5661/309460260.py:1: ComplexWarning: Casting complex values to real discards the imaginary part\n",
      "  a.astype(np.float32)\n"
     ]
    },
    {
     "data": {
      "text/plain": [
       "array([0., 1.], dtype=float32)"
      ]
     },
     "execution_count": 15,
     "metadata": {},
     "output_type": "execute_result"
    }
   ],
   "source": [
    "a.astype(np.float32)"
   ]
  },
  {
   "cell_type": "markdown",
   "id": "b7fe66ee",
   "metadata": {},
   "source": [
    "#### 2.2.1. Creating NumPy Arrays"
   ]
  },
  {
   "cell_type": "markdown",
   "id": "90d08a3a",
   "metadata": {},
   "source": [
    "Besides creating arrays directly from lists, a few functions are useful in certain contexts. For instances, you can create an array with 0 in all its entries like this,"
   ]
  },
  {
   "cell_type": "code",
   "execution_count": 3,
   "id": "e1e7c775",
   "metadata": {},
   "outputs": [
    {
     "data": {
      "text/plain": [
       "array([0., 0., 0., 0., 0.])"
      ]
     },
     "execution_count": 3,
     "metadata": {},
     "output_type": "execute_result"
    }
   ],
   "source": [
    "x = np.zeros(5)\n",
    "x"
   ]
  },
  {
   "cell_type": "markdown",
   "id": "48642543",
   "metadata": {},
   "source": [
    "the argument of this function gives us the __shape__ of the array. You could, for instance, create a matrix in such a way,"
   ]
  },
  {
   "cell_type": "code",
   "execution_count": 5,
   "id": "e548e229",
   "metadata": {},
   "outputs": [
    {
     "data": {
      "text/plain": [
       "array([[0., 0., 0., 0., 0.],\n",
       "       [0., 0., 0., 0., 0.],\n",
       "       [0., 0., 0., 0., 0.],\n",
       "       [0., 0., 0., 0., 0.],\n",
       "       [0., 0., 0., 0., 0.]])"
      ]
     },
     "execution_count": 5,
     "metadata": {},
     "output_type": "execute_result"
    }
   ],
   "source": [
    "x = np.zeros([5, 5])\n",
    "x"
   ]
  },
  {
   "cell_type": "markdown",
   "id": "36b00d5b",
   "metadata": {},
   "source": [
    "__Note on syntax.__ the function ```np.zeros``` receives a scalar or an iterable as the shape argument. As a consequence you need to pass a list or a tuple for specifying the shape of the array.\n",
    "\n",
    "Of course, you can create 3D arrays in the same way,"
   ]
  },
  {
   "cell_type": "code",
   "execution_count": 6,
   "id": "b1e8a913",
   "metadata": {},
   "outputs": [
    {
     "data": {
      "text/plain": [
       "array([[[0., 0., 0., 0., 0.],\n",
       "        [0., 0., 0., 0., 0.],\n",
       "        [0., 0., 0., 0., 0.],\n",
       "        [0., 0., 0., 0., 0.],\n",
       "        [0., 0., 0., 0., 0.]],\n",
       "\n",
       "       [[0., 0., 0., 0., 0.],\n",
       "        [0., 0., 0., 0., 0.],\n",
       "        [0., 0., 0., 0., 0.],\n",
       "        [0., 0., 0., 0., 0.],\n",
       "        [0., 0., 0., 0., 0.]]])"
      ]
     },
     "execution_count": 6,
     "metadata": {},
     "output_type": "execute_result"
    }
   ],
   "source": [
    "x = np.zeros([2, 5, 5])\n",
    "x"
   ]
  },
  {
   "cell_type": "markdown",
   "id": "f276b9d1",
   "metadata": {},
   "source": [
    "By default, NumPy arrays have fixed size. This means that you cannot append elements dynamically to an existing array. This is the opposite w.r.t. Python lists. You can manipulate existing arrays with ```np.concatenate```. For instance,"
   ]
  },
  {
   "cell_type": "code",
   "execution_count": 7,
   "id": "7bf009ef",
   "metadata": {},
   "outputs": [
    {
     "name": "stdout",
     "output_type": "stream",
     "text": [
      "[0 1 2 3 4 5]\n",
      "139669163422032 139669163422608 139669163425296\n"
     ]
    }
   ],
   "source": [
    "a = np.array([0, 1, 2])\n",
    "b = np.array([3, 4, 5])\n",
    "c = np.concatenate([a, b])\n",
    "\n",
    "print(c)\n",
    "print(id(a), id(b), id(c))"
   ]
  },
  {
   "cell_type": "markdown",
   "id": "e9d384d5",
   "metadata": {},
   "source": [
    "note that by concatenating arrays you create a new place in memory."
   ]
  },
  {
   "cell_type": "markdown",
   "id": "7944237b",
   "metadata": {},
   "source": [
    "### 2.3. Indexing"
   ]
  },
  {
   "cell_type": "markdown",
   "id": "c68e0331",
   "metadata": {},
   "source": [
    "This part of this lecture is based on [NumPy's documentation on indexing and slicing](https://numpy.org/doc/stable/user/basics.indexing.html)."
   ]
  },
  {
   "cell_type": "markdown",
   "id": "f981bf91",
   "metadata": {},
   "source": [
    "#### 2.3.1. Single Element Indexing"
   ]
  },
  {
   "cell_type": "markdown",
   "id": "6d59152e",
   "metadata": {},
   "source": [
    "As we discussed in this lecture, NumPy arrays can be \"n-\"dimensional, in the sense that you can create an object indexed by $i_{1}, i_{2},\\cdots,i_{n}$. For instance,"
   ]
  },
  {
   "cell_type": "code",
   "execution_count": 21,
   "id": "2427fa59",
   "metadata": {},
   "outputs": [
    {
     "name": "stdout",
     "output_type": "stream",
     "text": [
      "[1. 0. 0.]\n",
      "[[1. 0. 0.]\n",
      " [0. 1. 0.]\n",
      " [0. 0. 1.]]\n"
     ]
    }
   ],
   "source": [
    "v = np.array([1., 0., 0.])\n",
    "A = np.array([[1., 0., 0.],\n",
    "              [0., 1., 0.],\n",
    "              [0., 0., 1.]])\n",
    "\n",
    "print(v)\n",
    "print(A)"
   ]
  },
  {
   "cell_type": "markdown",
   "id": "cfd980bd",
   "metadata": {},
   "source": [
    "to declare a one-dimensional vector (indexed through $i$), we use a list. For a 2 dimensional matrix, we use a __list of lists__. This allows us to do an easier indexing,"
   ]
  },
  {
   "cell_type": "code",
   "execution_count": 22,
   "id": "d747895e",
   "metadata": {},
   "outputs": [
    {
     "name": "stdout",
     "output_type": "stream",
     "text": [
      "1.0 1.0 1.0\n"
     ]
    }
   ],
   "source": [
    "print(A[0, 0], A[1, 1], A[2, 2])"
   ]
  },
  {
   "cell_type": "markdown",
   "id": "a9e1938f",
   "metadata": {},
   "source": [
    "note that with pure Python, such an indexing is not possible,"
   ]
  },
  {
   "cell_type": "code",
   "execution_count": 23,
   "id": "feebece8",
   "metadata": {},
   "outputs": [
    {
     "ename": "TypeError",
     "evalue": "list indices must be integers or slices, not tuple",
     "output_type": "error",
     "traceback": [
      "\u001b[0;31m---------------------------------------------------------------------------\u001b[0m",
      "\u001b[0;31mTypeError\u001b[0m                                 Traceback (most recent call last)",
      "\u001b[0;32m/tmp/ipykernel_5661/4267273636.py\u001b[0m in \u001b[0;36m<module>\u001b[0;34m\u001b[0m\n\u001b[1;32m      3\u001b[0m      [0., 0., 1.]]\n\u001b[1;32m      4\u001b[0m \u001b[0;34m\u001b[0m\u001b[0m\n\u001b[0;32m----> 5\u001b[0;31m \u001b[0mprint\u001b[0m\u001b[0;34m(\u001b[0m\u001b[0mA\u001b[0m\u001b[0;34m[\u001b[0m\u001b[0;36m0\u001b[0m\u001b[0;34m,\u001b[0m \u001b[0;36m0\u001b[0m\u001b[0;34m]\u001b[0m\u001b[0;34m)\u001b[0m\u001b[0;34m\u001b[0m\u001b[0;34m\u001b[0m\u001b[0m\n\u001b[0m",
      "\u001b[0;31mTypeError\u001b[0m: list indices must be integers or slices, not tuple"
     ]
    }
   ],
   "source": [
    "A = [[1., 0., 0.],\n",
    "     [0., 1., 0.],\n",
    "     [0., 0., 1.]]\n",
    "\n",
    "print(A[0, 0])"
   ]
  },
  {
   "cell_type": "markdown",
   "id": "0dd42a16",
   "metadata": {},
   "source": [
    "furthermore, you can index numpy arrays with fewer indices,"
   ]
  },
  {
   "cell_type": "code",
   "execution_count": 26,
   "id": "60c689d0",
   "metadata": {},
   "outputs": [
    {
     "name": "stdout",
     "output_type": "stream",
     "text": [
      "[1. 3. 3.]\n"
     ]
    }
   ],
   "source": [
    "A = np.array([[1., 3., 3.],\n",
    "              [3., 1., 5.],\n",
    "              [5., 5., 1.]])\n",
    "\n",
    "print(A[0])"
   ]
  },
  {
   "cell_type": "markdown",
   "id": "699ac422",
   "metadata": {},
   "source": [
    "which gives you the first row of the array. Conversely, you could choose the first column like that,"
   ]
  },
  {
   "cell_type": "code",
   "execution_count": 27,
   "id": "3479f4cd",
   "metadata": {},
   "outputs": [
    {
     "name": "stdout",
     "output_type": "stream",
     "text": [
      "[1. 3. 5.]\n"
     ]
    }
   ],
   "source": [
    "print(A[:, 0])"
   ]
  },
  {
   "cell_type": "markdown",
   "id": "a475ca9a",
   "metadata": {},
   "source": [
    "The colon $:$ serves to indicate that we take every element along the 1st dimension. Otherwise you could use transposition,"
   ]
  },
  {
   "cell_type": "code",
   "execution_count": 28,
   "id": "2513ca93",
   "metadata": {},
   "outputs": [
    {
     "name": "stdout",
     "output_type": "stream",
     "text": [
      "[1. 3. 5.]\n"
     ]
    }
   ],
   "source": [
    "print(A.T[0])"
   ]
  },
  {
   "cell_type": "markdown",
   "id": "53c825d6",
   "metadata": {},
   "source": [
    "every NumPy array has an attribute called __shape__. The shape gives you the format of the array. For instance,"
   ]
  },
  {
   "cell_type": "code",
   "execution_count": 24,
   "id": "26af7997",
   "metadata": {},
   "outputs": [
    {
     "name": "stdout",
     "output_type": "stream",
     "text": [
      "(1000, 2)\n"
     ]
    }
   ],
   "source": [
    "# Samples elements using a normal distribution\n",
    "A = np.random.randn(1000, 2)\n",
    "\n",
    "print(A.shape)"
   ]
  },
  {
   "cell_type": "markdown",
   "id": "5b3af4b2",
   "metadata": {},
   "source": [
    "In this case we generated a random $(1000, 2)$ matrix. This matrix has $1000$ rows and $2$ columns."
   ]
  },
  {
   "cell_type": "markdown",
   "id": "243d1fa9",
   "metadata": {},
   "source": [
    "#### 2.3.2. Slicing and Striding"
   ]
  },
  {
   "cell_type": "markdown",
   "id": "67777d2b",
   "metadata": {},
   "source": [
    "NumPy's slicing/striding extends these concepts from pure Python to n-dimensional arrays. Throughout these examples we assume $\\mathbf{A}$ has $n$ dimensions, that is, it has shape $(d_{1},d_{2},\\cdots,d_{n})$.\n",
    "\n",
    "For a 1 dimensional array, slicing consists on __choosing a slice__ out of the array $\\mathbf{A} = [a_{1},\\cdots,a_{d}]$. This means that for $0 \\leq i_{1} \\leq i_{2} < d$, we choose $[a_{i_{1}},\\cdots,a_{i_{2}}]$ out of $[a_{1},\\cdots,a_{d}]$. As in pure Python, negative indices are interpreted as counting backwards. For instance,"
   ]
  },
  {
   "cell_type": "code",
   "execution_count": 30,
   "id": "ded7090a",
   "metadata": {},
   "outputs": [
    {
     "name": "stdout",
     "output_type": "stream",
     "text": [
      "[1 2 3 4 5 6]\n"
     ]
    }
   ],
   "source": [
    "# Creates an array with 0, ..., 9\n",
    "A = np.arange(0, 10)\n",
    "print(A[1:7])"
   ]
  },
  {
   "cell_type": "markdown",
   "id": "082d7183",
   "metadata": {},
   "source": [
    "As in pure Python, you can also stride through the array. The complete syntax for slicing arrays consists of $i:j:k$, where $i$ is the starting index, $j$ is the stopping index, and $k$ is the stride/step. This will select elements $i,i+k,\\cdots,i+(m-1)k$.\n",
    "\n",
    "Let $q$ and $r$ be the quotient and remainder of the division $j-i$ by $k$, i.e., $j-i = qk + r$. The value $m$ is given by $m = q + (r \\neq 0)$. In the same idea of the last example,"
   ]
  },
  {
   "cell_type": "code",
   "execution_count": 31,
   "id": "edbe14e1",
   "metadata": {},
   "outputs": [
    {
     "name": "stdout",
     "output_type": "stream",
     "text": [
      "[1 3 5]\n"
     ]
    }
   ],
   "source": [
    "print(A[1:7:2])"
   ]
  },
  {
   "cell_type": "markdown",
   "id": "417f50a5",
   "metadata": {},
   "source": [
    "__Remark.__ Ignoring the start index results in NumPy considering the slice from the beginning. Conversely, ignoring the start index results in NumPy considering the slice up to the end of the array, i.e.,"
   ]
  },
  {
   "cell_type": "code",
   "execution_count": 32,
   "id": "00edb242",
   "metadata": {},
   "outputs": [
    {
     "name": "stdout",
     "output_type": "stream",
     "text": [
      "[0 1 2 3 4 5 6] [7 8 9]\n"
     ]
    }
   ],
   "source": [
    "print(A[:7], A[7:])"
   ]
  },
  {
   "cell_type": "markdown",
   "id": "635adc9c",
   "metadata": {},
   "source": [
    "__Remark.__ Slicing/Striding produces a view instead of a copy. You should be aware of that when perfoming operations on sub-arrays, especially if you assign a sub-array to a variable. For instance, let us extract the even rows of the following matrix,"
   ]
  },
  {
   "cell_type": "code",
   "execution_count": 97,
   "id": "a3fd75d3",
   "metadata": {},
   "outputs": [
    {
     "name": "stdout",
     "output_type": "stream",
     "text": [
      "[[0 1]\n",
      " [2 3]\n",
      " [4 5]\n",
      " [6 7]\n",
      " [8 9]]\n"
     ]
    }
   ],
   "source": [
    "A = np.arange(0, 10).reshape(5, 2)\n",
    "\n",
    "print(A)"
   ]
  },
  {
   "cell_type": "code",
   "execution_count": 98,
   "id": "a1c400ce",
   "metadata": {},
   "outputs": [],
   "source": [
    "sub_A = A[::2]"
   ]
  },
  {
   "cell_type": "code",
   "execution_count": 99,
   "id": "3f942d9a",
   "metadata": {},
   "outputs": [
    {
     "name": "stdout",
     "output_type": "stream",
     "text": [
      "[[0 1]\n",
      " [2 3]\n",
      " [4 5]\n",
      " [6 7]\n",
      " [8 9]]\n",
      "[[0 1]\n",
      " [4 5]\n",
      " [8 9]]\n"
     ]
    }
   ],
   "source": [
    "print(A)\n",
    "print(sub_A)"
   ]
  },
  {
   "cell_type": "markdown",
   "id": "18618613",
   "metadata": {},
   "source": [
    "__Warning.__ it may not be straightfoward to see if two arrays have the same reference, because NumPy arrays are effectively pointers to places in memory. In this sense the pointer makes a reference to the starting point of memory. As such, they can point to different, but overlapping places. Check the following,"
   ]
  },
  {
   "cell_type": "code",
   "execution_count": 100,
   "id": "7d8fa28d",
   "metadata": {},
   "outputs": [
    {
     "data": {
      "text/plain": [
       "(140545971173488, 140545971125584)"
      ]
     },
     "execution_count": 100,
     "metadata": {},
     "output_type": "execute_result"
    }
   ],
   "source": [
    "id(A), id(sub_A)"
   ]
  },
  {
   "cell_type": "markdown",
   "id": "4829c9a5",
   "metadata": {},
   "source": [
    "which are different. But you can check that the two arrays share memory,"
   ]
  },
  {
   "cell_type": "code",
   "execution_count": 101,
   "id": "664cf148",
   "metadata": {},
   "outputs": [
    {
     "data": {
      "text/plain": [
       "True"
      ]
     },
     "execution_count": 101,
     "metadata": {},
     "output_type": "execute_result"
    }
   ],
   "source": [
    "np.shares_memory(A, sub_A)"
   ]
  },
  {
   "cell_type": "markdown",
   "id": "4fbccfed",
   "metadata": {},
   "source": [
    "and indeed, if you do,"
   ]
  },
  {
   "cell_type": "code",
   "execution_count": 102,
   "id": "ac2edbeb",
   "metadata": {},
   "outputs": [],
   "source": [
    "sub_A[0] = -1"
   ]
  },
  {
   "cell_type": "code",
   "execution_count": 103,
   "id": "3d58a4a8",
   "metadata": {},
   "outputs": [
    {
     "data": {
      "text/plain": [
       "array([[-1, -1],\n",
       "       [ 4,  5],\n",
       "       [ 8,  9]])"
      ]
     },
     "execution_count": 103,
     "metadata": {},
     "output_type": "execute_result"
    }
   ],
   "source": [
    "sub_A"
   ]
  },
  {
   "cell_type": "code",
   "execution_count": 104,
   "id": "98dd1d25",
   "metadata": {},
   "outputs": [
    {
     "data": {
      "text/plain": [
       "array([[-1, -1],\n",
       "       [ 2,  3],\n",
       "       [ 4,  5],\n",
       "       [ 6,  7],\n",
       "       [ 8,  9]])"
      ]
     },
     "execution_count": 104,
     "metadata": {},
     "output_type": "execute_result"
    }
   ],
   "source": [
    "A"
   ]
  },
  {
   "cell_type": "markdown",
   "id": "7e2c5f40",
   "metadata": {},
   "source": [
    "conversely, changing $A$ yields a change in the sub-array,"
   ]
  },
  {
   "cell_type": "code",
   "execution_count": 105,
   "id": "a9cfa444",
   "metadata": {},
   "outputs": [],
   "source": [
    "A[2] = -5"
   ]
  },
  {
   "cell_type": "code",
   "execution_count": 106,
   "id": "9e6a5686",
   "metadata": {},
   "outputs": [
    {
     "data": {
      "text/plain": [
       "array([[-1, -1],\n",
       "       [-5, -5],\n",
       "       [ 8,  9]])"
      ]
     },
     "execution_count": 106,
     "metadata": {},
     "output_type": "execute_result"
    }
   ],
   "source": [
    "sub_A"
   ]
  },
  {
   "cell_type": "code",
   "execution_count": 107,
   "id": "b943e04a",
   "metadata": {},
   "outputs": [
    {
     "data": {
      "text/plain": [
       "array([[-1, -1],\n",
       "       [ 2,  3],\n",
       "       [-5, -5],\n",
       "       [ 6,  7],\n",
       "       [ 8,  9]])"
      ]
     },
     "execution_count": 107,
     "metadata": {},
     "output_type": "execute_result"
    }
   ],
   "source": [
    "A"
   ]
  },
  {
   "cell_type": "markdown",
   "id": "29fe1332",
   "metadata": {},
   "source": [
    "__Jargon.__ In this case, we say that indexing generates __a view__ of the array $A$. Modifying the array modifies the view, and modifying the view modifies the array. A way to avoid this tie is to use ```.copy()```. This way a new place in memory will be created for the view,"
   ]
  },
  {
   "cell_type": "code",
   "execution_count": 108,
   "id": "3eca072d",
   "metadata": {},
   "outputs": [
    {
     "name": "stdout",
     "output_type": "stream",
     "text": [
      "False\n"
     ]
    }
   ],
   "source": [
    "A = np.arange(0, 10).reshape(5, 2)\n",
    "sub_A = A[::2].copy()\n",
    "\n",
    "print(np.shares_memory(A, sub_A))"
   ]
  },
  {
   "cell_type": "markdown",
   "id": "8f7c48d5",
   "metadata": {},
   "source": [
    "#### 2.3.3. Dimensional Indexing"
   ]
  },
  {
   "cell_type": "markdown",
   "id": "dc046944",
   "metadata": {},
   "source": [
    "In a multi-dimensional array, you can use Ellipsis, $\\cdots$, so that NumPy automatically expands $:$ needed for the selection tuple to index all dimensions. For instance,"
   ]
  },
  {
   "cell_type": "code",
   "execution_count": 110,
   "id": "1518f42c",
   "metadata": {},
   "outputs": [
    {
     "name": "stdout",
     "output_type": "stream",
     "text": [
      "(3, 224)\n"
     ]
    }
   ],
   "source": [
    "A = np.random.randn(3, 224, 224)\n",
    "\n",
    "print(A[..., 0].shape)"
   ]
  },
  {
   "cell_type": "markdown",
   "id": "b4d6ca18",
   "metadata": {},
   "source": [
    "which is equivalent to,"
   ]
  },
  {
   "cell_type": "code",
   "execution_count": 111,
   "id": "235d1f55",
   "metadata": {},
   "outputs": [
    {
     "name": "stdout",
     "output_type": "stream",
     "text": [
      "(3, 224)\n"
     ]
    }
   ],
   "source": [
    "print(A[:, :, 0].shape)"
   ]
  },
  {
   "cell_type": "markdown",
   "id": "e90e51cc",
   "metadata": {},
   "source": [
    "In addition, you can create new dimensions on numpy arrays using ```np.newaxis``` or ```None```,"
   ]
  },
  {
   "cell_type": "code",
   "execution_count": 10,
   "id": "6deadec3",
   "metadata": {},
   "outputs": [
    {
     "name": "stdout",
     "output_type": "stream",
     "text": [
      "(1, 5, 5)\n",
      "(5, 5, 1)\n"
     ]
    }
   ],
   "source": [
    "a = np.ones([5, 5])\n",
    "b = np.zeros([5, 5])\n",
    "\n",
    "print(a[None, ...].shape)\n",
    "print(b[..., None].shape)"
   ]
  },
  {
   "cell_type": "code",
   "execution_count": 11,
   "id": "e09ff85c",
   "metadata": {},
   "outputs": [
    {
     "name": "stdout",
     "output_type": "stream",
     "text": [
      "(1, 5, 5)\n",
      "(5, 5, 1)\n"
     ]
    }
   ],
   "source": [
    "a = np.ones([5, 5])\n",
    "b = np.zeros([5, 5])\n",
    "\n",
    "print(a[np.newaxis, ...].shape)\n",
    "print(b[..., np.newaxis].shape)"
   ]
  },
  {
   "cell_type": "markdown",
   "id": "0f662ee7",
   "metadata": {},
   "source": [
    "this may be useful when one wants to concatenate arrays over new dimensions,"
   ]
  },
  {
   "cell_type": "code",
   "execution_count": 13,
   "id": "ef8adaff",
   "metadata": {},
   "outputs": [
    {
     "data": {
      "text/plain": [
       "array([[[1., 1., 1., 1., 1.],\n",
       "        [1., 1., 1., 1., 1.],\n",
       "        [1., 1., 1., 1., 1.],\n",
       "        [1., 1., 1., 1., 1.],\n",
       "        [1., 1., 1., 1., 1.]],\n",
       "\n",
       "       [[0., 0., 0., 0., 0.],\n",
       "        [0., 0., 0., 0., 0.],\n",
       "        [0., 0., 0., 0., 0.],\n",
       "        [0., 0., 0., 0., 0.],\n",
       "        [0., 0., 0., 0., 0.]]])"
      ]
     },
     "execution_count": 13,
     "metadata": {},
     "output_type": "execute_result"
    }
   ],
   "source": [
    "a = np.ones([5, 5])\n",
    "b = np.zeros([5, 5])\n",
    "c = np.concatenate([a[None, ...], b[None, ...]], axis=0)\n",
    "\n",
    "c"
   ]
  },
  {
   "cell_type": "markdown",
   "id": "aaebd304",
   "metadata": {},
   "source": [
    "### 2.4. Vectorization"
   ]
  },
  {
   "cell_type": "code",
   "execution_count": 6,
   "id": "f4d28d3e",
   "metadata": {},
   "outputs": [
    {
     "name": "stdout",
     "output_type": "stream",
     "text": [
      "(100, 100) (100,)\n"
     ]
    }
   ],
   "source": [
    "A = np.ones([100, 100])\n",
    "v = np.arange(100)\n",
    "\n",
    "print(A.shape, v.shape)"
   ]
  },
  {
   "cell_type": "code",
   "execution_count": 7,
   "id": "712be88b",
   "metadata": {},
   "outputs": [
    {
     "name": "stdout",
     "output_type": "stream",
     "text": [
      "1.56 ms ± 41.2 µs per loop (mean ± std. dev. of 7 runs, 100 loops each)\n"
     ]
    }
   ],
   "source": [
    "%%timeit\n",
    "\n",
    "u = np.zeros_like(v)\n",
    "for i in range(A.shape[0]):\n",
    "    for j in range(A.shape[1]):\n",
    "        u[i] = A[i, j] * v[j]"
   ]
  },
  {
   "cell_type": "code",
   "execution_count": 8,
   "id": "6efb26ba",
   "metadata": {},
   "outputs": [
    {
     "name": "stdout",
     "output_type": "stream",
     "text": [
      "1.22 µs ± 16.6 ns per loop (mean ± std. dev. of 7 runs, 1000000 loops each)\n"
     ]
    }
   ],
   "source": [
    "%%timeit\n",
    "\n",
    "u = np.dot(A, v)"
   ]
  },
  {
   "cell_type": "markdown",
   "id": "d59b25df",
   "metadata": {},
   "source": [
    "### 2.5. Broadcasting"
   ]
  },
  {
   "cell_type": "markdown",
   "id": "d62dbe10",
   "metadata": {},
   "source": [
    "From NumPy's documentation,\n",
    "\n",
    "> The term broadcasting describes how NumPy treats arrays with different shapes during arithmetic operations. Subject to certain constraints, the smaller array is “broadcast” across the larger array so that they have compatible shapes. Broadcasting provides a means of vectorizing array operations so that looping occurs in C instead of Python. It does this without making needless copies of data and usually leads to efficient algorithm implementations. There are, however, cases where broadcasting is a bad idea because it leads to inefficient use of memory that slows computation.\n",
    "\n",
    "so, sometimes you want to add or multiply arrays over an existing dimension, or over a new dimension. Instead of doing a for loop, the optimized way of doing so is through broadcasting. Here are a few examples,"
   ]
  },
  {
   "cell_type": "code",
   "execution_count": 14,
   "id": "e89cac8a",
   "metadata": {},
   "outputs": [
    {
     "name": "stdout",
     "output_type": "stream",
     "text": [
      "[4 5 6]\n"
     ]
    }
   ],
   "source": [
    "a = np.array([1, 2, 3])\n",
    "b = 3\n",
    "c = a + b\n",
    "\n",
    "print(c)"
   ]
  },
  {
   "cell_type": "markdown",
   "id": "3fe7015e",
   "metadata": {},
   "source": [
    "here, the scalar ```3``` is stretched over the shape of ```a```, being added to each element of the array. A slightly more complex example,"
   ]
  },
  {
   "cell_type": "code",
   "execution_count": 18,
   "id": "6c8d2e39",
   "metadata": {},
   "outputs": [
    {
     "name": "stdout",
     "output_type": "stream",
     "text": [
      "[[0. 0. 0. 0. 0.]\n",
      " [0. 0. 0. 0. 0.]\n",
      " [0. 0. 0. 0. 0.]\n",
      " [0. 0. 0. 0. 0.]\n",
      " [0. 0. 0. 0. 0.]]\n",
      "[0 1 2 3 4]\n",
      "[[0. 1. 2. 3. 4.]\n",
      " [0. 1. 2. 3. 4.]\n",
      " [0. 1. 2. 3. 4.]\n",
      " [0. 1. 2. 3. 4.]\n",
      " [0. 1. 2. 3. 4.]]\n"
     ]
    }
   ],
   "source": [
    "A = np.zeros([5, 5])\n",
    "b = np.arange(5)\n",
    "\n",
    "print(A)\n",
    "print(b)\n",
    "print(A + b)"
   ]
  },
  {
   "cell_type": "markdown",
   "id": "2fff3ba1",
   "metadata": {},
   "source": [
    "As you can see, the array ```b``` was stretched along a second dimension. This creates a new matrix,\n",
    "\n",
    "```\n",
    "[[0, 1, 2, 3, 4],\n",
    " [0, 1, 2, 3, 4],\n",
    " [0, 1, 2, 3, 4],\n",
    " [0, 1, 2, 3, 4],\n",
    " [0, 1, 2, 3, 4]]\n",
    "```\n",
    "\n",
    "which is then added to the matrix of zeroes.\n",
    "\n",
    "__Warning.__ The broadcasting occurs w.r.t. the dimension not present in the smaller array. In our previous example, ```b``` has shape $(5,)$, which means that it will be repeated accross __the first dimension__. Compare the result with the following block of code, "
   ]
  },
  {
   "cell_type": "code",
   "execution_count": 19,
   "id": "95086c5b",
   "metadata": {},
   "outputs": [
    {
     "name": "stdout",
     "output_type": "stream",
     "text": [
      "[[0. 0. 0. 0. 0.]\n",
      " [0. 0. 0. 0. 0.]\n",
      " [0. 0. 0. 0. 0.]\n",
      " [0. 0. 0. 0. 0.]\n",
      " [0. 0. 0. 0. 0.]]\n",
      "[[0]\n",
      " [1]\n",
      " [2]\n",
      " [3]\n",
      " [4]]\n",
      "[[0. 0. 0. 0. 0.]\n",
      " [1. 1. 1. 1. 1.]\n",
      " [2. 2. 2. 2. 2.]\n",
      " [3. 3. 3. 3. 3.]\n",
      " [4. 4. 4. 4. 4.]]\n"
     ]
    }
   ],
   "source": [
    "A = np.zeros([5, 5])\n",
    "b = np.arange(5)[:, None]\n",
    "\n",
    "print(A)\n",
    "print(b)\n",
    "print(A + b)"
   ]
  },
  {
   "cell_type": "markdown",
   "id": "ab0c1cfe",
   "metadata": {},
   "source": [
    "now, the array ```b``` is repeated __along the second dimension__, i.e., $(5,1) \\mapsto (5, 5)$."
   ]
  },
  {
   "cell_type": "markdown",
   "id": "4284c6c4",
   "metadata": {},
   "source": [
    "__The rule.__ According to [NumPy's documentation](https://numpy.org/doc/stable/user/basics.broadcasting.html), when operating two arrays, NumPy compares the dimensions, from __right to the left__. Two dimensions are compatible __if__,\n",
    "\n",
    "1. They are equal, or\n",
    "2. one of them is 1\n",
    "\n",
    "In the second case, let's say $b$ has $1$ along a given dimension. NumPy repeats the array along this dimension in order to match $a$."
   ]
  },
  {
   "cell_type": "code",
   "execution_count": null,
   "id": "7f7780d8",
   "metadata": {},
   "outputs": [],
   "source": []
  }
 ],
 "metadata": {
  "kernelspec": {
   "display_name": "Python 3 (ipykernel)",
   "language": "python",
   "name": "python3"
  },
  "language_info": {
   "codemirror_mode": {
    "name": "ipython",
    "version": 3
   },
   "file_extension": ".py",
   "mimetype": "text/x-python",
   "name": "python",
   "nbconvert_exporter": "python",
   "pygments_lexer": "ipython3",
   "version": "3.11.5"
  }
 },
 "nbformat": 4,
 "nbformat_minor": 5
}
