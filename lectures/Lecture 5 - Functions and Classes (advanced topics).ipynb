{
 "cells": [
  {
   "cell_type": "markdown",
   "id": "b5ea9a38",
   "metadata": {},
   "source": [
    "# Special Functions and Classes"
   ]
  },
  {
   "cell_type": "markdown",
   "id": "2e5e83d6",
   "metadata": {},
   "source": [
    "## Magic Methods"
   ]
  },
  {
   "cell_type": "markdown",
   "id": "332311a1",
   "metadata": {},
   "source": [
    "Python treats virtually everything as an object. Even basic data types, such as integers, floats, etc. For instance, if we code a class,"
   ]
  },
  {
   "cell_type": "code",
   "execution_count": 2,
   "id": "581e0335",
   "metadata": {},
   "outputs": [],
   "source": [
    "class tmp:\n",
    "    pass"
   ]
  },
  {
   "cell_type": "markdown",
   "id": "baa51c12",
   "metadata": {},
   "source": [
    "we may verify its __methods__ via ```dir```,"
   ]
  },
  {
   "cell_type": "code",
   "execution_count": 3,
   "id": "7cf49137",
   "metadata": {},
   "outputs": [
    {
     "data": {
      "text/plain": [
       "['__class__',\n",
       " '__delattr__',\n",
       " '__dict__',\n",
       " '__dir__',\n",
       " '__doc__',\n",
       " '__eq__',\n",
       " '__format__',\n",
       " '__ge__',\n",
       " '__getattribute__',\n",
       " '__getstate__',\n",
       " '__gt__',\n",
       " '__hash__',\n",
       " '__init__',\n",
       " '__init_subclass__',\n",
       " '__le__',\n",
       " '__lt__',\n",
       " '__module__',\n",
       " '__ne__',\n",
       " '__new__',\n",
       " '__reduce__',\n",
       " '__reduce_ex__',\n",
       " '__repr__',\n",
       " '__setattr__',\n",
       " '__sizeof__',\n",
       " '__str__',\n",
       " '__subclasshook__',\n",
       " '__weakref__']"
      ]
     },
     "execution_count": 3,
     "metadata": {},
     "output_type": "execute_result"
    }
   ],
   "source": [
    "dir(tmp)"
   ]
  },
  {
   "cell_type": "markdown",
   "id": "78bdd84f",
   "metadata": {},
   "source": [
    "the same thing is possible with, for instance, an integer,"
   ]
  },
  {
   "cell_type": "code",
   "execution_count": 4,
   "id": "9c4f2e18",
   "metadata": {},
   "outputs": [
    {
     "data": {
      "text/plain": [
       "['__abs__',\n",
       " '__add__',\n",
       " '__and__',\n",
       " '__bool__',\n",
       " '__ceil__',\n",
       " '__class__',\n",
       " '__delattr__',\n",
       " '__dir__',\n",
       " '__divmod__',\n",
       " '__doc__',\n",
       " '__eq__',\n",
       " '__float__',\n",
       " '__floor__',\n",
       " '__floordiv__',\n",
       " '__format__',\n",
       " '__ge__',\n",
       " '__getattribute__',\n",
       " '__getnewargs__',\n",
       " '__getstate__',\n",
       " '__gt__',\n",
       " '__hash__',\n",
       " '__index__',\n",
       " '__init__',\n",
       " '__init_subclass__',\n",
       " '__int__',\n",
       " '__invert__',\n",
       " '__le__',\n",
       " '__lshift__',\n",
       " '__lt__',\n",
       " '__mod__',\n",
       " '__mul__',\n",
       " '__ne__',\n",
       " '__neg__',\n",
       " '__new__',\n",
       " '__or__',\n",
       " '__pos__',\n",
       " '__pow__',\n",
       " '__radd__',\n",
       " '__rand__',\n",
       " '__rdivmod__',\n",
       " '__reduce__',\n",
       " '__reduce_ex__',\n",
       " '__repr__',\n",
       " '__rfloordiv__',\n",
       " '__rlshift__',\n",
       " '__rmod__',\n",
       " '__rmul__',\n",
       " '__ror__',\n",
       " '__round__',\n",
       " '__rpow__',\n",
       " '__rrshift__',\n",
       " '__rshift__',\n",
       " '__rsub__',\n",
       " '__rtruediv__',\n",
       " '__rxor__',\n",
       " '__setattr__',\n",
       " '__sizeof__',\n",
       " '__str__',\n",
       " '__sub__',\n",
       " '__subclasshook__',\n",
       " '__truediv__',\n",
       " '__trunc__',\n",
       " '__xor__',\n",
       " 'as_integer_ratio',\n",
       " 'bit_count',\n",
       " 'bit_length',\n",
       " 'conjugate',\n",
       " 'denominator',\n",
       " 'from_bytes',\n",
       " 'imag',\n",
       " 'numerator',\n",
       " 'real',\n",
       " 'to_bytes']"
      ]
     },
     "execution_count": 4,
     "metadata": {},
     "output_type": "execute_result"
    }
   ],
   "source": [
    "dir(int)"
   ]
  },
  {
   "cell_type": "markdown",
   "id": "d115afe9",
   "metadata": {},
   "source": [
    "you may note that an integer has a number of methods that include double underscores. These are called __magic__ methods, because they implement behaviors that allow them to be used in specific cases. For instance, let's say you want to add two integers,"
   ]
  },
  {
   "cell_type": "code",
   "execution_count": 5,
   "id": "cdf60ed8",
   "metadata": {},
   "outputs": [
    {
     "name": "stdout",
     "output_type": "stream",
     "text": [
      "7\n"
     ]
    }
   ],
   "source": [
    "var1 = 5\n",
    "var2 = 2\n",
    "\n",
    "print(var1 + var2)"
   ]
  },
  {
   "cell_type": "markdown",
   "id": "f519ed58",
   "metadata": {},
   "source": [
    "under the hood, Python is actually calling the method ```__add__```, i.e.,"
   ]
  },
  {
   "cell_type": "code",
   "execution_count": 6,
   "id": "e805c517",
   "metadata": {},
   "outputs": [
    {
     "name": "stdout",
     "output_type": "stream",
     "text": [
      "7\n"
     ]
    }
   ],
   "source": [
    "print(var1.__add__(var2))"
   ]
  },
  {
   "cell_type": "markdown",
   "id": "18ddbccc",
   "metadata": {},
   "source": [
    "As previously mentioned, is this __magic method__ that implements the behavior of the operation ```var1 + var2```. For instance, let us implement a class with a custom add method,"
   ]
  },
  {
   "cell_type": "code",
   "execution_count": 7,
   "id": "6a3e3bb9",
   "metadata": {},
   "outputs": [
    {
     "data": {
      "text/plain": [
       "True"
      ]
     },
     "execution_count": 7,
     "metadata": {},
     "output_type": "execute_result"
    }
   ],
   "source": [
    "type([1, 2, 3]) is list"
   ]
  },
  {
   "cell_type": "code",
   "execution_count": 8,
   "id": "27e6a384",
   "metadata": {},
   "outputs": [],
   "source": [
    "class Vector:\n",
    "    def __init__(self, data):\n",
    "        assert type(data) is list\n",
    "        self.data = data\n",
    "        \n",
    "    def __add__(self, vector2):\n",
    "        new_data = []\n",
    "        for ai, bi in zip(self.data, vector2.data):\n",
    "            new_data.append(ai + bi)\n",
    "        return Vector(new_data)"
   ]
  },
  {
   "cell_type": "code",
   "execution_count": 9,
   "id": "e057165b",
   "metadata": {},
   "outputs": [
    {
     "name": "stdout",
     "output_type": "stream",
     "text": [
      "<__main__.Vector object at 0x0000023C36D6F950> [5, 7, 9]\n"
     ]
    }
   ],
   "source": [
    "var1 = Vector([1, 2, 3])\n",
    "var2 = Vector([4, 5, 6])\n",
    "var3 = var1 + var2\n",
    "\n",
    "print(var3, var3.data)"
   ]
  },
  {
   "cell_type": "markdown",
   "id": "c532e008",
   "metadata": {},
   "source": [
    "### Length"
   ]
  },
  {
   "cell_type": "markdown",
   "id": "53092588",
   "metadata": {},
   "source": [
    "The magic method ```__len__``` should return an integer describing the number of elements in a class. You already used this method, for instance, with lists,"
   ]
  },
  {
   "cell_type": "code",
   "execution_count": 10,
   "id": "99177255",
   "metadata": {},
   "outputs": [
    {
     "name": "stdout",
     "output_type": "stream",
     "text": [
      "3 3\n"
     ]
    }
   ],
   "source": [
    "a = [1, 2, 3]\n",
    "\n",
    "print(len(a), a.__len__())"
   ]
  },
  {
   "cell_type": "markdown",
   "id": "6eeb1417",
   "metadata": {},
   "source": [
    "let us include this method in our ```Vector``` class,"
   ]
  },
  {
   "cell_type": "code",
   "execution_count": 11,
   "id": "d1ad5b6a",
   "metadata": {},
   "outputs": [],
   "source": [
    "class Vector:\n",
    "    def __init__(self, data):\n",
    "        assert type(data) is list\n",
    "        self.data = data\n",
    "        \n",
    "    def __len__(self):\n",
    "        return len(self.data)\n",
    "        \n",
    "    def __add__(self, vector2):\n",
    "        new_data = []\n",
    "        for ai, bi in zip(self.data, vector2.data):\n",
    "            new_data.append(ai + bi)\n",
    "        return Vector(new_data)"
   ]
  },
  {
   "cell_type": "code",
   "execution_count": 13,
   "id": "9c613af5",
   "metadata": {},
   "outputs": [
    {
     "name": "stdout",
     "output_type": "stream",
     "text": [
      "<__main__.Vector object at 0x0000023C36D65490> [5, 7, 9]\n",
      "3\n"
     ]
    }
   ],
   "source": [
    "var1 = Vector([1, 2, 3])\n",
    "var2 = Vector([4, 5, 6])\n",
    "var3 = var1 + var2\n",
    "\n",
    "print(var3, var3.data)\n",
    "print(len(var3))"
   ]
  },
  {
   "cell_type": "markdown",
   "id": "2c14ff27",
   "metadata": {},
   "source": [
    "### getitem"
   ]
  },
  {
   "cell_type": "markdown",
   "id": "81e38576",
   "metadata": {},
   "source": [
    "This method allows you to index elements in your class. You already used it in the context of lists,"
   ]
  },
  {
   "cell_type": "code",
   "execution_count": 14,
   "id": "2aaffd8e",
   "metadata": {},
   "outputs": [
    {
     "name": "stdout",
     "output_type": "stream",
     "text": [
      "2\n"
     ]
    }
   ],
   "source": [
    "a = [1, 2, 3]\n",
    "\n",
    "print(a.__getitem__(1))"
   ]
  },
  {
   "cell_type": "markdown",
   "id": "3b100374",
   "metadata": {},
   "source": [
    "let us implement it in the context of our __Vector__ class,"
   ]
  },
  {
   "cell_type": "code",
   "execution_count": 15,
   "id": "a3913a49",
   "metadata": {},
   "outputs": [],
   "source": [
    "class Vector:\n",
    "    def __init__(self, data):\n",
    "        assert type(data) is list\n",
    "        self.data = data\n",
    "        \n",
    "    def __len__(self):\n",
    "        return len(self.data)\n",
    "    \n",
    "    def __getitem__(self, idx):\n",
    "        return self.data[idx]\n",
    "        \n",
    "    def __add__(self, vector2):\n",
    "        new_data = []\n",
    "        for ai, bi in zip(self.data, vector2.data):\n",
    "            new_data.append(ai + bi)\n",
    "        return Vector(new_data)"
   ]
  },
  {
   "cell_type": "code",
   "execution_count": 16,
   "id": "599e21f4",
   "metadata": {},
   "outputs": [
    {
     "name": "stdout",
     "output_type": "stream",
     "text": [
      "5 7 9\n"
     ]
    }
   ],
   "source": [
    "var1 = Vector([1, 2, 3])\n",
    "var2 = Vector([4, 5, 6])\n",
    "var3 = var1 + var2\n",
    "\n",
    "print(var3[0], var3[1], var3[2])"
   ]
  },
  {
   "cell_type": "markdown",
   "id": "0a2e314d",
   "metadata": {},
   "source": [
    "## Iterators"
   ]
  },
  {
   "cell_type": "markdown",
   "id": "5b61a074",
   "metadata": {},
   "source": [
    "In Python, an [iterator](https://docs.python.org/3/glossary.html#term-iterator) is an object representing an stream of data. These objects are characterized by the magic method ```__next__()``` which loops through the object's elements."
   ]
  },
  {
   "cell_type": "markdown",
   "id": "ea72db3b",
   "metadata": {},
   "source": [
    "### ```iter()```"
   ]
  },
  {
   "cell_type": "markdown",
   "id": "429662df",
   "metadata": {},
   "source": [
    "you can turn Python's iterables (lists, tuples, dictionaries) into iterators through the method ```iter()```. As it turns out, it creates a __fresh__ iterator each time you cast an iterable into an iterator,"
   ]
  },
  {
   "cell_type": "code",
   "execution_count": 17,
   "id": "809c4369",
   "metadata": {},
   "outputs": [],
   "source": [
    "my_iter = iter([2, 3, 5, 7])"
   ]
  },
  {
   "cell_type": "code",
   "execution_count": 18,
   "id": "1ae90d1a",
   "metadata": {},
   "outputs": [
    {
     "data": {
      "text/plain": [
       "['__class__',\n",
       " '__delattr__',\n",
       " '__dir__',\n",
       " '__doc__',\n",
       " '__eq__',\n",
       " '__format__',\n",
       " '__ge__',\n",
       " '__getattribute__',\n",
       " '__getstate__',\n",
       " '__gt__',\n",
       " '__hash__',\n",
       " '__init__',\n",
       " '__init_subclass__',\n",
       " '__iter__',\n",
       " '__le__',\n",
       " '__length_hint__',\n",
       " '__lt__',\n",
       " '__ne__',\n",
       " '__new__',\n",
       " '__next__',\n",
       " '__reduce__',\n",
       " '__reduce_ex__',\n",
       " '__repr__',\n",
       " '__setattr__',\n",
       " '__setstate__',\n",
       " '__sizeof__',\n",
       " '__str__',\n",
       " '__subclasshook__']"
      ]
     },
     "execution_count": 18,
     "metadata": {},
     "output_type": "execute_result"
    }
   ],
   "source": [
    "dir(my_iter)"
   ]
  },
  {
   "cell_type": "markdown",
   "id": "17c11c63",
   "metadata": {},
   "source": [
    "you can get the elements in the iterator through the function ```next()```,"
   ]
  },
  {
   "cell_type": "code",
   "execution_count": 19,
   "id": "85ce3e17",
   "metadata": {},
   "outputs": [
    {
     "name": "stdout",
     "output_type": "stream",
     "text": [
      "2\n"
     ]
    }
   ],
   "source": [
    "elem = next(my_iter)\n",
    "\n",
    "print(elem)"
   ]
  },
  {
   "cell_type": "markdown",
   "id": "caa14f19",
   "metadata": {},
   "source": [
    "__Note.__ each time you run ```next(iterator)``` you will get a new item from the iterator. Eventually, it will raise an exception,"
   ]
  },
  {
   "cell_type": "code",
   "execution_count": 20,
   "id": "ad03069a",
   "metadata": {},
   "outputs": [
    {
     "name": "stdout",
     "output_type": "stream",
     "text": [
      "3 5 7\n"
     ]
    }
   ],
   "source": [
    "elem2 = next(my_iter)\n",
    "elem3 = next(my_iter)\n",
    "elem4 = next(my_iter)\n",
    "\n",
    "print(elem2, elem3, elem4)"
   ]
  },
  {
   "cell_type": "code",
   "execution_count": 21,
   "id": "d20fe680",
   "metadata": {},
   "outputs": [
    {
     "ename": "StopIteration",
     "evalue": "",
     "output_type": "error",
     "traceback": [
      "\u001b[1;31m---------------------------------------------------------------------------\u001b[0m",
      "\u001b[1;31mStopIteration\u001b[0m                             Traceback (most recent call last)",
      "\u001b[1;32mlucabarri\\python4ds\\lectures\\Lecture 5 - Functions and Classes (advanced topics).ipynb Cell 39\u001b[0m line \u001b[0;36m1\n\u001b[1;32m----> <a href='vscode-notebook-cell://github/lucabarri/python4ds/lectures/Lecture%205%20-%20Functions%20and%20Classes%20%28advanced%20topics%29.ipynb#X53sdnNjb2RlLXZmcw%3D%3D?line=0'>1</a>\u001b[0m elem5 \u001b[39m=\u001b[39m \u001b[39mnext\u001b[39;49m(my_iter)\n",
      "\u001b[1;31mStopIteration\u001b[0m: "
     ]
    }
   ],
   "source": [
    "elem5 = next(my_iter)"
   ]
  },
  {
   "cell_type": "markdown",
   "id": "b22e1020",
   "metadata": {},
   "source": [
    "which you can use to find whether you looped through the entire list of elements."
   ]
  },
  {
   "cell_type": "markdown",
   "id": "2dde6282",
   "metadata": {},
   "source": [
    "__Note.__ In order to create an iterator, Python needs the class to implement the method ```__getitem__``` as shown in the example below,"
   ]
  },
  {
   "cell_type": "code",
   "execution_count": 22,
   "id": "c444082b",
   "metadata": {},
   "outputs": [],
   "source": [
    "class Vector:\n",
    "    def __init__(self, data):\n",
    "        assert type(data) is list\n",
    "        self.data = data\n",
    "        \n",
    "    def __len__(self):\n",
    "        return len(self.data)\n",
    "    \n",
    "    # def __getitem__(self, idx):\n",
    "    #     return self.data[idx]\n",
    "        \n",
    "    def __add__(self, vector2):\n",
    "        new_data = []\n",
    "        for ai, bi in zip(self.data, vector2.data):\n",
    "            new_data.append(ai + bi)\n",
    "        return Vector(new_data)"
   ]
  },
  {
   "cell_type": "code",
   "execution_count": 23,
   "id": "cc35fd33",
   "metadata": {},
   "outputs": [
    {
     "ename": "TypeError",
     "evalue": "'Vector' object is not iterable",
     "output_type": "error",
     "traceback": [
      "\u001b[1;31m---------------------------------------------------------------------------\u001b[0m",
      "\u001b[1;31mTypeError\u001b[0m                                 Traceback (most recent call last)",
      "\u001b[1;32mlucabarri\\python4ds\\lectures\\Lecture 5 - Functions and Classes (advanced topics).ipynb Cell 43\u001b[0m line \u001b[0;36m1\n\u001b[1;32m----> <a href='vscode-notebook-cell://github/lucabarri/python4ds/lectures/Lecture%205%20-%20Functions%20and%20Classes%20%28advanced%20topics%29.ipynb#X60sdnNjb2RlLXZmcw%3D%3D?line=0'>1</a>\u001b[0m my_iter \u001b[39m=\u001b[39m \u001b[39miter\u001b[39;49m(Vector([\u001b[39m1\u001b[39;49m, \u001b[39m2\u001b[39;49m, \u001b[39m3\u001b[39;49m]))\n",
      "\u001b[1;31mTypeError\u001b[0m: 'Vector' object is not iterable"
     ]
    }
   ],
   "source": [
    "my_iter = iter(Vector([1, 2, 3]))"
   ]
  },
  {
   "cell_type": "code",
   "execution_count": 24,
   "id": "01166150",
   "metadata": {},
   "outputs": [],
   "source": [
    "class Vector:\n",
    "    def __init__(self, data):\n",
    "        assert type(data) is list\n",
    "        self.data = data\n",
    "        \n",
    "    def __len__(self):\n",
    "        return len(self.data)\n",
    "    \n",
    "    def __getitem__(self, idx):\n",
    "        return self.data[idx]\n",
    "        \n",
    "    def __add__(self, vector2):\n",
    "        new_data = []\n",
    "        for ai, bi in zip(self.data, vector2.data):\n",
    "            new_data.append(ai + bi)\n",
    "        return Vector(new_data)"
   ]
  },
  {
   "cell_type": "code",
   "execution_count": 25,
   "id": "65943775",
   "metadata": {},
   "outputs": [],
   "source": [
    "my_iter = iter(Vector([1, 2, 3]))"
   ]
  },
  {
   "cell_type": "markdown",
   "id": "debc6772",
   "metadata": {},
   "source": [
    "### Custom Iterators"
   ]
  },
  {
   "cell_type": "markdown",
   "id": "9de85e13",
   "metadata": {},
   "source": [
    "Another way to program an iterator is to explicitly specify the method ```__next()__```. Here I give you an example,"
   ]
  },
  {
   "cell_type": "code",
   "execution_count": 26,
   "id": "3d5c6a6b",
   "metadata": {},
   "outputs": [],
   "source": [
    "class IntegerIterator:\n",
    "    def __init__(self):\n",
    "        self.n = 0\n",
    "        \n",
    "    def __iter__(self):\n",
    "        self.n = 0\n",
    "        return self\n",
    "\n",
    "    def __next__(self):\n",
    "        n = self.n\n",
    "        self.n += 1\n",
    "        return n"
   ]
  },
  {
   "cell_type": "code",
   "execution_count": 27,
   "id": "538e7b3b",
   "metadata": {},
   "outputs": [],
   "source": [
    "iterator = IntegerIterator()"
   ]
  },
  {
   "cell_type": "code",
   "execution_count": 28,
   "id": "8d085738",
   "metadata": {},
   "outputs": [
    {
     "name": "stdout",
     "output_type": "stream",
     "text": [
      "0\n"
     ]
    }
   ],
   "source": [
    "n = next(iterator)\n",
    "print(n)"
   ]
  },
  {
   "cell_type": "code",
   "execution_count": 29,
   "id": "477c501c",
   "metadata": {},
   "outputs": [
    {
     "name": "stdout",
     "output_type": "stream",
     "text": [
      "0\n",
      "1\n",
      "2\n",
      "3\n",
      "4\n",
      "5\n",
      "6\n",
      "7\n",
      "8\n",
      "9\n",
      "10\n"
     ]
    }
   ],
   "source": [
    "for n in iterator:\n",
    "    print(n)\n",
    "    \n",
    "    if n == 10:\n",
    "        break"
   ]
  },
  {
   "cell_type": "markdown",
   "id": "a8b19ee0",
   "metadata": {},
   "source": [
    "__Warning.__ in our ```__next__``` method we did not raise an ```StopIteration``` exception, so this iterator will loop forever. You should avoid this. Here we implement something similar to the class ```range(start, finish, step)```"
   ]
  },
  {
   "cell_type": "code",
   "execution_count": 30,
   "id": "2069057a",
   "metadata": {},
   "outputs": [],
   "source": [
    "class IntegerIterator:\n",
    "    def __init__(self, start=0, finish=10, step=1):\n",
    "        self.start = start\n",
    "        self.finish = finish\n",
    "        self.step = step\n",
    "        self.n = start\n",
    "        \n",
    "    def __iter__(self):\n",
    "        self.n = self.start\n",
    "        return self\n",
    "\n",
    "    def __next__(self):\n",
    "        n = self.n\n",
    "        self.n += self.step\n",
    "        \n",
    "        if self.n <= self.finish:\n",
    "            return n\n",
    "        else:\n",
    "            raise StopIteration"
   ]
  },
  {
   "cell_type": "code",
   "execution_count": 32,
   "id": "a9dd9516",
   "metadata": {},
   "outputs": [],
   "source": [
    "iterator = IntegerIterator(0, 20, 2)"
   ]
  },
  {
   "cell_type": "code",
   "execution_count": 33,
   "id": "cfc3329a",
   "metadata": {},
   "outputs": [
    {
     "name": "stdout",
     "output_type": "stream",
     "text": [
      "0\n"
     ]
    }
   ],
   "source": [
    "n = next(iterator)\n",
    "print(n)"
   ]
  },
  {
   "cell_type": "code",
   "execution_count": 34,
   "id": "06f4ea7a",
   "metadata": {},
   "outputs": [
    {
     "name": "stdout",
     "output_type": "stream",
     "text": [
      "0\n",
      "2\n",
      "4\n",
      "6\n",
      "8\n",
      "10\n",
      "12\n",
      "14\n",
      "16\n",
      "18\n"
     ]
    }
   ],
   "source": [
    "for n in iterator:\n",
    "    print(n)"
   ]
  },
  {
   "cell_type": "markdown",
   "id": "0042623e",
   "metadata": {},
   "source": [
    "### Generators"
   ]
  },
  {
   "cell_type": "markdown",
   "id": "468d9c6b",
   "metadata": {},
   "source": [
    "A third way you can use to create an iterator is through the concept of [__generator__](https://realpython.com/introduction-to-python-generators/). In a nutshell, a generator is a Python function that can be looped through. You have various ways to create generators. Here we present a few."
   ]
  },
  {
   "cell_type": "markdown",
   "id": "a212803d",
   "metadata": {},
   "source": [
    "#### The yield statement"
   ]
  },
  {
   "cell_type": "markdown",
   "id": "1fe848b1",
   "metadata": {},
   "source": [
    "When you create a function, you define its output through the ```return``` statement. This statement marks the end of execution of the function. For instance,"
   ]
  },
  {
   "cell_type": "code",
   "execution_count": 35,
   "id": "504d3fba",
   "metadata": {},
   "outputs": [],
   "source": [
    "def test():\n",
    "    print('here I am')\n",
    "    return -1\n",
    "    print(\"This is not executed.\")"
   ]
  },
  {
   "cell_type": "code",
   "execution_count": 36,
   "id": "79f39f27",
   "metadata": {},
   "outputs": [
    {
     "name": "stdout",
     "output_type": "stream",
     "text": [
      "here I am\n"
     ]
    },
    {
     "data": {
      "text/plain": [
       "-1"
      ]
     },
     "execution_count": 36,
     "metadata": {},
     "output_type": "execute_result"
    }
   ],
   "source": [
    "test()"
   ]
  },
  {
   "cell_type": "markdown",
   "id": "b557725d",
   "metadata": {},
   "source": [
    "note that anything __after__ the ```return``` statement will not be executed by the function.\n",
    "\n",
    "In Python, you have the ```yield``` statement. It behaves similarly to the ```return``` statement, but the execution continues on, for instance,"
   ]
  },
  {
   "cell_type": "code",
   "execution_count": 42,
   "id": "a0321b3e",
   "metadata": {},
   "outputs": [],
   "source": [
    "def test():\n",
    "    print('Here I am')\n",
    "    yield -1\n",
    "    print('This is executed')"
   ]
  },
  {
   "cell_type": "markdown",
   "id": "9c69a121",
   "metadata": {},
   "source": [
    "the execution of the function does not return a value though (even though we \"yield\" -1),"
   ]
  },
  {
   "cell_type": "code",
   "execution_count": 43,
   "id": "010387c9",
   "metadata": {},
   "outputs": [
    {
     "data": {
      "text/plain": [
       "<generator object test at 0x0000023C36E6FD00>"
      ]
     },
     "execution_count": 43,
     "metadata": {},
     "output_type": "execute_result"
    }
   ],
   "source": [
    "test()"
   ]
  },
  {
   "cell_type": "markdown",
   "id": "77530f39",
   "metadata": {},
   "source": [
    "it actually returns a __generator__ object. This object can be looped through,"
   ]
  },
  {
   "cell_type": "code",
   "execution_count": 44,
   "id": "31861942",
   "metadata": {},
   "outputs": [
    {
     "name": "stdout",
     "output_type": "stream",
     "text": [
      "Here I am\n",
      "-1\n",
      "This is executed\n"
     ]
    }
   ],
   "source": [
    "for ret in test():\n",
    "    print(ret)"
   ]
  },
  {
   "cell_type": "markdown",
   "id": "095079df",
   "metadata": {},
   "source": [
    "as you can see, we loop through the values that ```test()``` yields. Let us code the class from the last example as a generator,"
   ]
  },
  {
   "cell_type": "code",
   "execution_count": 45,
   "id": "50a2df08",
   "metadata": {},
   "outputs": [],
   "source": [
    "def integer_generator(start, stop, step):\n",
    "    n = 0\n",
    "    while n < stop:\n",
    "        yield n\n",
    "        n += step"
   ]
  },
  {
   "cell_type": "code",
   "execution_count": 46,
   "id": "29ef9b32",
   "metadata": {},
   "outputs": [
    {
     "name": "stdout",
     "output_type": "stream",
     "text": [
      "0\n",
      "2\n",
      "4\n",
      "6\n",
      "8\n",
      "10\n",
      "12\n",
      "14\n",
      "16\n",
      "18\n"
     ]
    }
   ],
   "source": [
    "for n in integer_generator(0, 20, 2):\n",
    "    print(n)"
   ]
  },
  {
   "cell_type": "markdown",
   "id": "f845d66d",
   "metadata": {},
   "source": [
    "as you can see, we are closer to the actual ```range(start, stop, step)``` syntax."
   ]
  },
  {
   "cell_type": "markdown",
   "id": "7824b04a",
   "metadata": {},
   "source": [
    "#### List comprehension"
   ]
  },
  {
   "cell_type": "markdown",
   "id": "de984b0d",
   "metadata": {},
   "source": [
    "A second way of declaring generators is through list comprehension. Remember that we may create lists through\n",
    "\n",
    "```python\n",
    "my_list = [expression for element in iterable if condition]\n",
    "```\n",
    "\n",
    "A generator can be declared in a similar way, but with parenthesis,"
   ]
  },
  {
   "cell_type": "code",
   "execution_count": 53,
   "id": "fc9389fc",
   "metadata": {},
   "outputs": [
    {
     "name": "stdout",
     "output_type": "stream",
     "text": [
      "<generator object <genexpr> at 0x0000023C3736D970>\n"
     ]
    }
   ],
   "source": [
    "my_gen = (n ** 2 for n in range(10) if n % 3 == 0)\n",
    "\n",
    "print(my_gen)"
   ]
  },
  {
   "cell_type": "code",
   "execution_count": 54,
   "id": "40edf71d",
   "metadata": {},
   "outputs": [
    {
     "name": "stdout",
     "output_type": "stream",
     "text": [
      "0\n",
      "9\n",
      "36\n",
      "81\n"
     ]
    }
   ],
   "source": [
    "for s in my_gen:\n",
    "    print(s)"
   ]
  },
  {
   "cell_type": "code",
   "execution_count": 55,
   "id": "1b7d89f6",
   "metadata": {},
   "outputs": [],
   "source": [
    "for s in my_gen:\n",
    "    print(s)"
   ]
  },
  {
   "cell_type": "markdown",
   "id": "48c0e321",
   "metadata": {},
   "source": [
    "### Generators as Iterators"
   ]
  },
  {
   "cell_type": "markdown",
   "id": "65cbdc02",
   "metadata": {},
   "source": [
    "Note that you generators behave exactly like iterators,"
   ]
  },
  {
   "cell_type": "code",
   "execution_count": 56,
   "id": "81c83279",
   "metadata": {},
   "outputs": [],
   "source": [
    "def integer_generator(start, stop, step):\n",
    "    n = 0\n",
    "    while n < stop:\n",
    "        yield n\n",
    "        n += step"
   ]
  },
  {
   "cell_type": "code",
   "execution_count": 57,
   "id": "7ebbed63",
   "metadata": {},
   "outputs": [],
   "source": [
    "my_gen = integer_generator(0, 6, 2)"
   ]
  },
  {
   "cell_type": "code",
   "execution_count": 58,
   "id": "6428882c",
   "metadata": {},
   "outputs": [
    {
     "name": "stdout",
     "output_type": "stream",
     "text": [
      "0\n",
      "2\n",
      "4\n"
     ]
    },
    {
     "ename": "StopIteration",
     "evalue": "",
     "output_type": "error",
     "traceback": [
      "\u001b[1;31m---------------------------------------------------------------------------\u001b[0m",
      "\u001b[1;31mStopIteration\u001b[0m                             Traceback (most recent call last)",
      "\u001b[1;32mlucabarri\\python4ds\\lectures\\Lecture 5 - Functions and Classes (advanced topics).ipynb Cell 82\u001b[0m line \u001b[0;36m1\n\u001b[0;32m      <a href='vscode-notebook-cell://github/lucabarri/python4ds/lectures/Lecture%205%20-%20Functions%20and%20Classes%20%28advanced%20topics%29.ipynb#Y143sdnNjb2RlLXZmcw%3D%3D?line=6'>7</a>\u001b[0m val \u001b[39m=\u001b[39m \u001b[39mnext\u001b[39m(my_gen)\n\u001b[0;32m      <a href='vscode-notebook-cell://github/lucabarri/python4ds/lectures/Lecture%205%20-%20Functions%20and%20Classes%20%28advanced%20topics%29.ipynb#Y143sdnNjb2RlLXZmcw%3D%3D?line=7'>8</a>\u001b[0m \u001b[39mprint\u001b[39m(val)\n\u001b[1;32m---> <a href='vscode-notebook-cell://github/lucabarri/python4ds/lectures/Lecture%205%20-%20Functions%20and%20Classes%20%28advanced%20topics%29.ipynb#Y143sdnNjb2RlLXZmcw%3D%3D?line=9'>10</a>\u001b[0m val \u001b[39m=\u001b[39m \u001b[39mnext\u001b[39;49m(my_gen)\n\u001b[0;32m     <a href='vscode-notebook-cell://github/lucabarri/python4ds/lectures/Lecture%205%20-%20Functions%20and%20Classes%20%28advanced%20topics%29.ipynb#Y143sdnNjb2RlLXZmcw%3D%3D?line=10'>11</a>\u001b[0m \u001b[39mprint\u001b[39m(val)\n",
      "\u001b[1;31mStopIteration\u001b[0m: "
     ]
    }
   ],
   "source": [
    "val = next(my_gen)\n",
    "print(val)\n",
    "\n",
    "val = next(my_gen)\n",
    "print(val)\n",
    "\n",
    "val = next(my_gen)\n",
    "print(val)\n",
    "\n",
    "val = next(my_gen)\n",
    "print(val)"
   ]
  },
  {
   "cell_type": "markdown",
   "id": "67bad590",
   "metadata": {},
   "source": [
    "that is, you can call ```next``` on a generator in the same way you can do it with a iterator. The generator then loops through every yield, until it does yield any more values. In this case, a ```StopIteration``` is raised __automatically__."
   ]
  }
 ],
 "metadata": {
  "kernelspec": {
   "display_name": "Python 3 (ipykernel)",
   "language": "python",
   "name": "python3"
  },
  "language_info": {
   "codemirror_mode": {
    "name": "ipython",
    "version": 3
   },
   "file_extension": ".py",
   "mimetype": "text/x-python",
   "name": "python",
   "nbconvert_exporter": "python",
   "pygments_lexer": "ipython3",
   "version": "3.11.5"
  }
 },
 "nbformat": 4,
 "nbformat_minor": 5
}
