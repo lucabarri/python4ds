{
 "cells": [
  {
   "cell_type": "markdown",
   "metadata": {},
   "source": [
    "## Problem 1\n",
    "\n",
    "Write a program that receives a dictionary with floating point values (arbitrary keys) and returns a new dictionary with keys sorted by values.\n",
    "\n",
    "__Example.__\n",
    "\n",
    "```\n",
    "Input: {'Person1': 22, 'Person2': 35, 'Person3': 5, 'Person4': 53}\n",
    "Output: {'Person3': 5, 'Person1': 22, 'Person2': 35, 'Person4': 53}\n",
    "```"
   ]
  },
  {
   "cell_type": "code",
   "execution_count": 6,
   "metadata": {},
   "outputs": [
    {
     "name": "stdout",
     "output_type": "stream",
     "text": [
      "[('Person3', 5), ('Person1', 22), ('Person2', 35), ('Person4', 53)]\n"
     ]
    }
   ],
   "source": [
    "d = {'Person1': 22, 'Person2': 35, 'Person3': 5, 'Person4': 53}\n",
    "sorted_d = sorted(d.items(), key = lambda x:x[1])\n",
    "\n",
    "print(sorted_d)"
   ]
  },
  {
   "cell_type": "markdown",
   "metadata": {},
   "source": [
    "## Problem 2\n",
    "\n",
    "The factorial of a non-negative integer $n$, denoted by $n!$, is defined as,\n",
    "\n",
    "$n! = n \\times (n-1) \\times \\cdots \\times 2 \\times 1$\n",
    "\n",
    "Henceforth let $f(n) = n!$"
   ]
  },
  {
   "cell_type": "markdown",
   "metadata": {},
   "source": [
    "### Problem 2.1\n",
    "\n",
    "From the definition of factorial, derive an expression of $f(n)$ in terms of $f(n-1)$.\n",
    "\n",
    "### Solution:\n",
    "$f(n) = n * f(n - 1)$"
   ]
  },
  {
   "cell_type": "markdown",
   "metadata": {},
   "source": [
    "### Problem 2.2\n",
    "\n",
    "From the recursive definition in Step 1, program a function $f(n)$ that returns $n!$."
   ]
  },
  {
   "cell_type": "code",
   "execution_count": 1,
   "metadata": {},
   "outputs": [
    {
     "name": "stdout",
     "output_type": "stream",
     "text": [
      "8320987112741390144276341183223364380754172606361245952449277696409600000000000000\n"
     ]
    }
   ],
   "source": [
    "def factorial(n):\n",
    "    if(n == 0):\n",
    "        return 1\n",
    "    else:\n",
    "        return factorial(n-1) * n\n",
    "\n",
    "print(factorial(60))"
   ]
  },
  {
   "cell_type": "markdown",
   "metadata": {},
   "source": [
    "## Problem 3"
   ]
  },
  {
   "cell_type": "markdown",
   "metadata": {},
   "source": [
    "### Problem 3.1\n",
    "The Fibonacci sequence is defined as follows,\n",
    "\n",
    "$$f(1) = 1, f(2) = 1,$$\n",
    "\n",
    "$$f(n) = f(n-1) + f(n-2)$$\n",
    "\n",
    "write a recursive program that computes $f(n)$."
   ]
  },
  {
   "cell_type": "code",
   "execution_count": 17,
   "metadata": {},
   "outputs": [
    {
     "name": "stdout",
     "output_type": "stream",
     "text": [
      "1\n",
      "1\n",
      "2\n",
      "3\n",
      "5\n",
      "8\n",
      "13\n",
      "21\n",
      "34\n",
      "55\n",
      "89\n",
      "144\n",
      "233\n",
      "377\n",
      "610\n",
      "987\n",
      "1597\n",
      "2584\n",
      "4181\n",
      "6765\n"
     ]
    }
   ],
   "source": [
    "def fib(n):\n",
    "    if(n == 1 or n == 2):\n",
    "        return 1\n",
    "    else:\n",
    "        return fib(n-1) + fib(n-2)\n",
    "    \n",
    "\n",
    "for i in range(1, 20 + 1):\n",
    "    print(fib(i))"
   ]
  },
  {
   "cell_type": "markdown",
   "metadata": {},
   "source": [
    "### Problem 3.2\n",
    "\n",
    "Based on your last program, write a recursive program that stores $f(i)$ on a list, for $i=1,\\cdots,n$."
   ]
  },
  {
   "cell_type": "code",
   "execution_count": 20,
   "metadata": {},
   "outputs": [
    {
     "name": "stdout",
     "output_type": "stream",
     "text": [
      "[1, 1, 2, 3, 5, 8, 13, 21, 34, 55, 89, 144, 233, 377, 610, 987, 1597, 2584, 4181, 6765]\n"
     ]
    }
   ],
   "source": [
    "n_fib = []\n",
    "\n",
    "n = 20\n",
    "for i in range(1, n + 1):\n",
    "    n_fib.append(fib(i))\n",
    "\n",
    "print(n_fib)"
   ]
  },
  {
   "cell_type": "markdown",
   "metadata": {},
   "source": [
    "## Problem 4"
   ]
  },
  {
   "cell_type": "markdown",
   "metadata": {},
   "source": [
    "### Problem 4.1\n",
    "\n",
    "Write a sequential program that converts a decimal number into binary."
   ]
  },
  {
   "cell_type": "code",
   "execution_count": 79,
   "metadata": {},
   "outputs": [
    {
     "name": "stdout",
     "output_type": "stream",
     "text": [
      "[1, 1, 0, 1, 0]\n"
     ]
    }
   ],
   "source": [
    "n = 26\n",
    "\n",
    "n_bin = []\n",
    "\n",
    "while n != 0:\n",
    "    if n % 2 == 0:\n",
    "        n_bin.append(0)\n",
    "        n = int(n/2)\n",
    "    else:\n",
    "        n_bin.append(1)\n",
    "        n = int(n/2)\n",
    "\n",
    "\n",
    "n_bin.reverse()\n",
    "print(n_bin)\n",
    "    "
   ]
  },
  {
   "cell_type": "markdown",
   "metadata": {},
   "source": [
    "### Problem 4.2\n",
    "\n",
    "Rewrite your program using a recursive function."
   ]
  },
  {
   "cell_type": "code",
   "execution_count": 114,
   "metadata": {},
   "outputs": [
    {
     "ename": "AttributeError",
     "evalue": "'NoneType' object has no attribute 'append'",
     "output_type": "error",
     "traceback": [
      "\u001b[1;31m---------------------------------------------------------------------------\u001b[0m",
      "\u001b[1;31mAttributeError\u001b[0m                            Traceback (most recent call last)",
      "\u001b[1;32mlucabarri\\python4ds\\lectures\\Exercises Lecture 4.ipynb Cell 16\u001b[0m line \u001b[0;36m2\n\u001b[0;32m     <a href='vscode-notebook-cell://github/lucabarri/python4ds/lectures/Exercises%20Lecture%204.ipynb#X62sdnNjb2RlLXZmcw%3D%3D?line=19'>20</a>\u001b[0m         prov \u001b[39m=\u001b[39m \u001b[39mbin\u001b[39m(n)\n\u001b[0;32m     <a href='vscode-notebook-cell://github/lucabarri/python4ds/lectures/Exercises%20Lecture%204.ipynb#X62sdnNjb2RlLXZmcw%3D%3D?line=20'>21</a>\u001b[0m         \u001b[39mreturn\u001b[39;00m(prov\u001b[39m.\u001b[39mappend(\u001b[39m1\u001b[39m))\n\u001b[1;32m---> <a href='vscode-notebook-cell://github/lucabarri/python4ds/lectures/Exercises%20Lecture%204.ipynb#X62sdnNjb2RlLXZmcw%3D%3D?line=22'>23</a>\u001b[0m solution \u001b[39m=\u001b[39m \u001b[39mbin\u001b[39;49m(n)\n\u001b[0;32m     <a href='vscode-notebook-cell://github/lucabarri/python4ds/lectures/Exercises%20Lecture%204.ipynb#X62sdnNjb2RlLXZmcw%3D%3D?line=24'>25</a>\u001b[0m \u001b[39mprint\u001b[39m(solution)\n",
      "\u001b[1;32mlucabarri\\python4ds\\lectures\\Exercises Lecture 4.ipynb Cell 16\u001b[0m line \u001b[0;36m2\n\u001b[0;32m     <a href='vscode-notebook-cell://github/lucabarri/python4ds/lectures/Exercises%20Lecture%204.ipynb#X62sdnNjb2RlLXZmcw%3D%3D?line=17'>18</a>\u001b[0m \u001b[39melse\u001b[39;00m:\n\u001b[0;32m     <a href='vscode-notebook-cell://github/lucabarri/python4ds/lectures/Exercises%20Lecture%204.ipynb#X62sdnNjb2RlLXZmcw%3D%3D?line=18'>19</a>\u001b[0m     n \u001b[39m=\u001b[39m (n\u001b[39m-\u001b[39m\u001b[39m1\u001b[39m) \u001b[39m/\u001b[39m \u001b[39m2\u001b[39m\n\u001b[1;32m---> <a href='vscode-notebook-cell://github/lucabarri/python4ds/lectures/Exercises%20Lecture%204.ipynb#X62sdnNjb2RlLXZmcw%3D%3D?line=19'>20</a>\u001b[0m     prov \u001b[39m=\u001b[39m \u001b[39mbin\u001b[39;49m(n)\n\u001b[0;32m     <a href='vscode-notebook-cell://github/lucabarri/python4ds/lectures/Exercises%20Lecture%204.ipynb#X62sdnNjb2RlLXZmcw%3D%3D?line=20'>21</a>\u001b[0m     \u001b[39mreturn\u001b[39;00m(prov\u001b[39m.\u001b[39mappend(\u001b[39m1\u001b[39m))\n",
      "\u001b[1;32mlucabarri\\python4ds\\lectures\\Exercises Lecture 4.ipynb Cell 16\u001b[0m line \u001b[0;36m2\n\u001b[0;32m     <a href='vscode-notebook-cell://github/lucabarri/python4ds/lectures/Exercises%20Lecture%204.ipynb#X62sdnNjb2RlLXZmcw%3D%3D?line=17'>18</a>\u001b[0m \u001b[39melse\u001b[39;00m:\n\u001b[0;32m     <a href='vscode-notebook-cell://github/lucabarri/python4ds/lectures/Exercises%20Lecture%204.ipynb#X62sdnNjb2RlLXZmcw%3D%3D?line=18'>19</a>\u001b[0m     n \u001b[39m=\u001b[39m (n\u001b[39m-\u001b[39m\u001b[39m1\u001b[39m) \u001b[39m/\u001b[39m \u001b[39m2\u001b[39m\n\u001b[1;32m---> <a href='vscode-notebook-cell://github/lucabarri/python4ds/lectures/Exercises%20Lecture%204.ipynb#X62sdnNjb2RlLXZmcw%3D%3D?line=19'>20</a>\u001b[0m     prov \u001b[39m=\u001b[39m \u001b[39mbin\u001b[39;49m(n)\n\u001b[0;32m     <a href='vscode-notebook-cell://github/lucabarri/python4ds/lectures/Exercises%20Lecture%204.ipynb#X62sdnNjb2RlLXZmcw%3D%3D?line=20'>21</a>\u001b[0m     \u001b[39mreturn\u001b[39;00m(prov\u001b[39m.\u001b[39mappend(\u001b[39m1\u001b[39m))\n",
      "\u001b[1;32mlucabarri\\python4ds\\lectures\\Exercises Lecture 4.ipynb Cell 16\u001b[0m line \u001b[0;36m1\n\u001b[0;32m     <a href='vscode-notebook-cell://github/lucabarri/python4ds/lectures/Exercises%20Lecture%204.ipynb#X62sdnNjb2RlLXZmcw%3D%3D?line=11'>12</a>\u001b[0m \u001b[39melif\u001b[39;00m(n \u001b[39m%\u001b[39m \u001b[39m2\u001b[39m \u001b[39m==\u001b[39m \u001b[39m0\u001b[39m):\n\u001b[0;32m     <a href='vscode-notebook-cell://github/lucabarri/python4ds/lectures/Exercises%20Lecture%204.ipynb#X62sdnNjb2RlLXZmcw%3D%3D?line=12'>13</a>\u001b[0m     n \u001b[39m=\u001b[39m n\u001b[39m/\u001b[39m\u001b[39m2\u001b[39m\n\u001b[1;32m---> <a href='vscode-notebook-cell://github/lucabarri/python4ds/lectures/Exercises%20Lecture%204.ipynb#X62sdnNjb2RlLXZmcw%3D%3D?line=13'>14</a>\u001b[0m     prov \u001b[39m=\u001b[39m \u001b[39mbin\u001b[39;49m(n)\n\u001b[0;32m     <a href='vscode-notebook-cell://github/lucabarri/python4ds/lectures/Exercises%20Lecture%204.ipynb#X62sdnNjb2RlLXZmcw%3D%3D?line=14'>15</a>\u001b[0m     \u001b[39mreturn\u001b[39;00m(prov\u001b[39m.\u001b[39mappend(\u001b[39m0\u001b[39m))\n\u001b[0;32m     <a href='vscode-notebook-cell://github/lucabarri/python4ds/lectures/Exercises%20Lecture%204.ipynb#X62sdnNjb2RlLXZmcw%3D%3D?line=17'>18</a>\u001b[0m \u001b[39melse\u001b[39;00m:\n",
      "\u001b[1;32mlucabarri\\python4ds\\lectures\\Exercises Lecture 4.ipynb Cell 16\u001b[0m line \u001b[0;36m1\n\u001b[0;32m     <a href='vscode-notebook-cell://github/lucabarri/python4ds/lectures/Exercises%20Lecture%204.ipynb#X62sdnNjb2RlLXZmcw%3D%3D?line=12'>13</a>\u001b[0m     n \u001b[39m=\u001b[39m n\u001b[39m/\u001b[39m\u001b[39m2\u001b[39m\n\u001b[0;32m     <a href='vscode-notebook-cell://github/lucabarri/python4ds/lectures/Exercises%20Lecture%204.ipynb#X62sdnNjb2RlLXZmcw%3D%3D?line=13'>14</a>\u001b[0m     prov \u001b[39m=\u001b[39m \u001b[39mbin\u001b[39m(n)\n\u001b[1;32m---> <a href='vscode-notebook-cell://github/lucabarri/python4ds/lectures/Exercises%20Lecture%204.ipynb#X62sdnNjb2RlLXZmcw%3D%3D?line=14'>15</a>\u001b[0m     \u001b[39mreturn\u001b[39;00m(prov\u001b[39m.\u001b[39;49mappend(\u001b[39m0\u001b[39m))\n\u001b[0;32m     <a href='vscode-notebook-cell://github/lucabarri/python4ds/lectures/Exercises%20Lecture%204.ipynb#X62sdnNjb2RlLXZmcw%3D%3D?line=17'>18</a>\u001b[0m \u001b[39melse\u001b[39;00m:\n\u001b[0;32m     <a href='vscode-notebook-cell://github/lucabarri/python4ds/lectures/Exercises%20Lecture%204.ipynb#X62sdnNjb2RlLXZmcw%3D%3D?line=18'>19</a>\u001b[0m     n \u001b[39m=\u001b[39m (n\u001b[39m-\u001b[39m\u001b[39m1\u001b[39m) \u001b[39m/\u001b[39m \u001b[39m2\u001b[39m\n",
      "\u001b[1;31mAttributeError\u001b[0m: 'NoneType' object has no attribute 'append'"
     ]
    }
   ],
   "source": [
    "n = 51\n",
    "\n",
    "solution = []\n",
    "\n",
    "def bin(n):\n",
    "    if(n == 0):\n",
    "        return [0]\n",
    "    \n",
    "    elif(n == 1):\n",
    "        return [1]\n",
    "    \n",
    "    elif(n % 2 == 0):\n",
    "        n = n/2\n",
    "        prov = bin(n)\n",
    "        return(prov.append(0))\n",
    "\n",
    "\n",
    "    else:\n",
    "        n = (n-1) / 2\n",
    "        prov = bin(n)\n",
    "        return(prov.append(1))\n",
    "\n",
    "solution = bin(n)\n",
    "\n",
    "print(solution)"
   ]
  },
  {
   "cell_type": "markdown",
   "metadata": {},
   "source": [
    "## Problem 5\n",
    "\n",
    "Assume that $x$ is a monotonically non-decreasing array, i.e., $x_{0} \\leq x_{2} \\leq \\cdots \\leq x_{n-1}$. Implement an algorithm that receives a searched value $x_{0}$. The algorithm follows the steps,\n",
    "\n",
    "1. Compare the middle element of $x_{m}$ to $x_{0}$.\n",
    "2. IF $x_{m} = x_{0}$, returns $m$\n",
    "3. ELSE\n",
    "    1. IF $x_{m} < x_{0}$ then searches the sub-array $x_{m+1}, \\cdots, x_{n-1}$\n",
    "    2. ELSE then searches the sub-array $x_{0},\\cdots,x_{m-1}$\n",
    "4. Repeat untill found or all search space is exausted."
   ]
  },
  {
   "cell_type": "markdown",
   "metadata": {},
   "source": [
    "### Problem 5.1.\n",
    "\n",
    "Provide a sequential implementation of this algorithm."
   ]
  },
  {
   "cell_type": "code",
   "execution_count": 53,
   "metadata": {},
   "outputs": [
    {
     "name": "stdout",
     "output_type": "stream",
     "text": [
      "b:  [1, 2]\n",
      "prova:  [2, 3, 4, 5]\n"
     ]
    }
   ],
   "source": [
    "a = [1, 2, 3, 4, 5]\n",
    "b = [1, 2, 3, 4]\n",
    "\n",
    "\n",
    "\n",
    "b = b[0: int(len(b)/2)]\n",
    "print(\"b: \", b)\n",
    "\n",
    "print(\"prova: \", a[1: ])"
   ]
  },
  {
   "cell_type": "code",
   "execution_count": 59,
   "metadata": {},
   "outputs": [
    {
     "name": "stdout",
     "output_type": "stream",
     "text": [
      "OK\n",
      "[3]\n"
     ]
    }
   ],
   "source": [
    "x = [0, 1, 1, 3, 5, 5, 10, 30, 31]\n",
    "x = [0, 1, 3, 5, 5]\n",
    "\n",
    "x0 = 4\n",
    "\n",
    "\n",
    "while len(x) != 1:\n",
    "    xm = x[int(len(x) / 2)]\n",
    "    if  xm == x0:\n",
    "        print(f\"Found!\\nThe number {x0} is in the list\")\n",
    "    elif x0 < xm:\n",
    "        x = x[0 : int(len(x)/2)]\n",
    "        print(\"OK\")\n",
    "    else:\n",
    "        x = x[int(len(x)/2) : ]\n",
    " \n",
    "print(x)\n"
   ]
  },
  {
   "cell_type": "markdown",
   "metadata": {},
   "source": [
    "### Problem 5.2.\n",
    "\n",
    "Provide a recursive implementation of this algorithm.\n",
    "\n",
    "__Hint.__ In the recursive version of the algorithm, the function should receive the left and right extremities of the search space"
   ]
  },
  {
   "cell_type": "markdown",
   "metadata": {},
   "source": [
    "\n",
    "### Problem 5.3\n",
    "\n",
    "What is the [algorithmic complexity](https://en.wikipedia.org/wiki/Computational_complexity_theory) for finding an element with binary search?\n"
   ]
  },
  {
   "cell_type": "markdown",
   "metadata": {},
   "source": [
    "\n",
    "# Classes\n",
    "\n",
    "## Problem 6\n",
    "\n",
    "In this problem, we are going to cover binary search tree. Follow the next steps,\n"
   ]
  },
  {
   "cell_type": "markdown",
   "metadata": {},
   "source": [
    "\n",
    "### Problem 6.1\n",
    "\n",
    "Code a class ```Node``` with the following specification,\n",
    "\n",
    "#### Attributes\n",
    "\n",
    "Objects of the class ```Node``` have the following attributes,\n",
    "\n",
    "- ````left````\n",
    "- ````right````\n",
    "- ````value````\n",
    "\n",
    "The attribute ```value``` stores the node's value. It is a float.\n",
    "\n",
    "The attributes ```left``` and ```right``` store children nodes. In a binary search tree, the children nodes have a special structure. Assume a node $p$. The tree is structured such that\n",
    "\n",
    "$$\\text{p.left.value} \\leq \\text{p.value} \\leq \\text{p.right.value}.$$\n"
   ]
  },
  {
   "cell_type": "markdown",
   "metadata": {},
   "source": [
    "\n",
    "#### Methods\n",
    "\n",
    "Objects of the class ```Node``` have the following methods,\n",
    "\n",
    "- ```insert_children(other_node)```\n",
    "\n",
    "In ```insert_children(other_node)```, you insert a new object of the class ```other_node``` in ```left``` or ```right```.\n"
   ]
  },
  {
   "cell_type": "code",
   "execution_count": 2,
   "metadata": {},
   "outputs": [],
   "source": [
    "class Node:\n",
    "    def __init__(self, left, right, value):\n",
    "        self.__left = left\n",
    "        self.__right = right\n",
    "        self.__value = value\n",
    "\n",
    "    def get_left(self):\n",
    "        return self.__left\n",
    "    \n",
    "    def get_right(self):\n",
    "        return self.__right\n",
    "    \n",
    "    def get_value(self):\n",
    "        return self.__value\n",
    "    \n",
    "    def set_left(self, l):\n",
    "        self.__left = l\n",
    "    \n",
    "    def set_right(self, r):\n",
    "        self.__right = r\n",
    "\n",
    "    def set_value(self, v):\n",
    "        self.__value = v\n",
    "        \n",
    "    "
   ]
  },
  {
   "cell_type": "markdown",
   "metadata": {},
   "source": [
    "\n",
    "### Problem 6.2\n",
    "\n",
    "Write a class ```Tree``` with the following specification. Henceforth we refer to a generic object from ```Tree``` as ```tree```\n"
   ]
  },
  {
   "cell_type": "markdown",
   "metadata": {},
   "source": [
    "\n",
    "#### Attributes\n",
    "\n",
    "- ```root```\n",
    "\n",
    "The attribute ```root``` stores the root of the binary search tree. It should be initialized as ```None```.\n"
   ]
  },
  {
   "cell_type": "markdown",
   "metadata": {},
   "source": [
    "\n",
    "#### Methods\n",
    "\n",
    "- ```insert_node(node)```\n",
    "\n",
    "here, ```node``` is an instance of the class ```Node```. The logic of ```insert_node``` is as follows,\n",
    "\n",
    "1. __If__ ```tree.root is None```, then the root was not set, set ```node``` as the root and terminate execution.\n",
    "2. __Else__\n",
    "    1. Run over the tree untill hitting a dead end (either ```node.left``` or ```node.right``` being None).\n",
    "    2. Add to the left or right based on ```node.value```.\n",
    "\n",
    "__Hint.__ A while loop would be appropriate.\n",
    "\n",
    "- ```__str__()```\n",
    "\n",
    "here, you should print the tree as follows,\n",
    "\n",
    "Start by printing the root node, alongside with its two children. For instance:\n",
    "\n",
    "```\n",
    "8 (left: 3, right: 10)\n",
    "```\n",
    "\n",
    "Then, you proceed to print all nodes,\n",
    "\n",
    "```\n",
    "8 (root, left: 3, right: 10)\n",
    "3 (left: 1, right: 7)\n",
    "1 (left: None, right: None)\n",
    "7 (left: None, right: None)\n",
    "10 (left: 9, right: 14)\n",
    "9 (left: None, right: None)\n",
    "14 (left: None, right: None)\n",
    "```\n",
    "\n",
    "__Hint.__ Think recursively.\n",
    "\n",
    "- ```search(x)```\n",
    "\n",
    "Searches for the node such that ```node.value = x```\n"
   ]
  },
  {
   "cell_type": "markdown",
   "metadata": {},
   "source": [
    "\n",
    "### Problem 6.3\n",
    "\n",
    "- What is the computational complexity of inserting an element to a binary search tree?\n",
    "- What is the computational complexity of searching for an element in a binary search tree?"
   ]
  },
  {
   "cell_type": "markdown",
   "metadata": {},
   "source": [
    "\n",
    "# Classes\n",
    "\n",
    "## Problem 6\n",
    "\n",
    "In this problem, we are going to cover binary search tree. Follow the next steps,\n",
    "\n",
    "### Problem 6.1\n",
    "\n",
    "Code a class ```Node``` with the following specification,\n",
    "\n",
    "#### Attributes\n",
    "\n",
    "Objects of the class ```Node``` have the following attributes,\n",
    "\n",
    "- ````left````\n",
    "- ````right````\n",
    "- ````value````\n",
    "\n",
    "The attribute ```value``` stores the node's value. It is a float.\n",
    "\n",
    "The attributes ```left``` and ```right``` store children nodes. In a binary search tree, the children nodes have a special structure. Assume a node $p$. The tree is structured such that\n",
    "\n",
    "$$\\text{p.left.value} \\leq \\text{p.value} \\leq \\text{p.right.value}.$$\n",
    "\n",
    "#### Methods\n",
    "\n",
    "Objects of the class ```Node``` have the following methods,\n",
    "\n",
    "- ```insert_children(other_node)```\n",
    "\n",
    "In ```insert_children(other_node)```, you insert a new object of the class ```other_node``` in ```left``` or ```right```.\n",
    "\n",
    "\n",
    "### Problem 6.2\n",
    "\n",
    "Write a class ```Tree``` with the following specification. Henceforth we refer to a generic object from ```Tree``` as ```tree```\n",
    "\n",
    "#### Attributes\n",
    "\n",
    "- ```root```\n",
    "\n",
    "The attribute ```root``` stores the root of the binary search tree. It should be initialized as ```None```.\n",
    "\n",
    "#### Methods\n",
    "\n",
    "- ```insert_node(node)```\n",
    "\n",
    "here, ```node``` is an instance of the class ```Node```. The logic of ```insert_node``` is as follows,\n",
    "\n",
    "1. __If__ ```tree.root is None```, then the root was not set, set ```node``` as the root and terminate execution.\n",
    "2. __Else__\n",
    "    1. Run over the tree untill hitting a dead end (either ```node.left``` or ```node.right``` being None).\n",
    "    2. Add to the left or right based on ```node.value```.\n",
    "\n",
    "__Hint.__ A while loop would be appropriate.\n",
    "\n",
    "- ```__str__()```\n",
    "\n",
    "here, you should print the tree as follows,\n",
    "\n",
    "Start by printing the root node, alongside with its two children. For instance:\n",
    "\n",
    "```\n",
    "8 (left: 3, right: 10)\n",
    "```\n",
    "\n",
    "Then, you proceed to print all nodes,\n",
    "\n",
    "```\n",
    "8 (root, left: 3, right: 10)\n",
    "3 (left: 1, right: 7)\n",
    "1 (left: None, right: None)\n",
    "7 (left: None, right: None)\n",
    "10 (left: 9, right: 14)\n",
    "9 (left: None, right: None)\n",
    "14 (left: None, right: None)\n",
    "```\n",
    "\n",
    "__Hint.__ Think recursively.\n",
    "\n",
    "- ```search(x)```\n",
    "\n",
    "Searches for the node such that ```node.value = x```\n",
    "\n",
    "### Problem 6.3\n",
    "\n",
    "- What is the computational complexity of inserting an element to a binary search tree?\n",
    "- What is the computational complexity of searching for an element in a binary search tree?"
   ]
  }
 ],
 "metadata": {
  "kernelspec": {
   "display_name": "Python 3",
   "language": "python",
   "name": "python3"
  },
  "language_info": {
   "codemirror_mode": {
    "name": "ipython",
    "version": 3
   },
   "file_extension": ".py",
   "mimetype": "text/x-python",
   "name": "python",
   "nbconvert_exporter": "python",
   "pygments_lexer": "ipython3",
   "version": "3.11.5"
  },
  "orig_nbformat": 4
 },
 "nbformat": 4,
 "nbformat_minor": 2
}
