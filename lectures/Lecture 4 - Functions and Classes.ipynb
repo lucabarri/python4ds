{
 "cells": [
  {
   "cell_type": "markdown",
   "id": "f58daea1",
   "metadata": {},
   "source": [
    "# Functions"
   ]
  },
  {
   "cell_type": "markdown",
   "id": "a1a13eb1",
   "metadata": {},
   "source": [
    "[In programming](https://en.wikipedia.org/wiki/Function_(computer_programming)), a function is a sequence of program instructions that performs a specific task, packaged as a unit. This unit can then be used in programs wherever that particular task should be performed. For instance, it may define a series of operations that are repeated throughout a certain program. As such, a function defines a sub-set of actions that are used by a bigger program.\n",
    "\n",
    "Let us begin with a simple example,"
   ]
  },
  {
   "cell_type": "code",
   "execution_count": 2,
   "id": "71e18fa4",
   "metadata": {},
   "outputs": [],
   "source": [
    "def greet_user():\n",
    "    \"\"\"Display a simple greeting\"\"\"\n",
    "    print(\"Hello!\")"
   ]
  },
  {
   "cell_type": "markdown",
   "id": "e22d4b6b",
   "metadata": {},
   "source": [
    "__Syntax Remark.__ Here, you defined the function ```greet_user```. This was done through the keyword ```def```, which indicates you are __declaring__ a function. You should use identation to indicate to Python's interpreter that the next idented block composes the function operations. The triple quotations define the __docstring__ of the function. It is the documentation of the function, which may be accessed through ```help()```,"
   ]
  },
  {
   "cell_type": "code",
   "execution_count": 3,
   "id": "5c208859",
   "metadata": {},
   "outputs": [
    {
     "name": "stdout",
     "output_type": "stream",
     "text": [
      "Help on function greet_user in module __main__:\n",
      "\n",
      "greet_user()\n",
      "    Display a simple greeting\n",
      "\n"
     ]
    }
   ],
   "source": [
    "help(greet_user)"
   ]
  },
  {
   "cell_type": "markdown",
   "id": "e9c59973",
   "metadata": {},
   "source": [
    "next, you may execute your function via __calling__ it,"
   ]
  },
  {
   "cell_type": "code",
   "execution_count": 4,
   "id": "ed9f1eaa",
   "metadata": {},
   "outputs": [
    {
     "name": "stdout",
     "output_type": "stream",
     "text": [
      "Hello!\n"
     ]
    }
   ],
   "source": [
    "greet_user()"
   ]
  },
  {
   "cell_type": "markdown",
   "id": "81761fe0",
   "metadata": {},
   "source": [
    "which, as you may notice, executes what's inside the idented block."
   ]
  },
  {
   "cell_type": "markdown",
   "id": "40da3bf2",
   "metadata": {},
   "source": [
    "## Function I/O"
   ]
  },
  {
   "cell_type": "markdown",
   "id": "5d7bf4cb",
   "metadata": {},
   "source": [
    "you can input information to functions via arguments. These are defined in the first line, for instance,"
   ]
  },
  {
   "cell_type": "code",
   "execution_count": 5,
   "id": "beb39c54",
   "metadata": {},
   "outputs": [],
   "source": [
    "def successor(n):\n",
    "    return n + 1"
   ]
  },
  {
   "cell_type": "markdown",
   "id": "d34be08b",
   "metadata": {},
   "source": [
    "here, $n$ is called the __parameter__ of successor.\n",
    "\n",
    "The outputs of functions are defined in the ```return``` statement. In this case, we are returning $n + 1$, i.e., the successor of $n$,"
   ]
  },
  {
   "cell_type": "code",
   "execution_count": 6,
   "id": "6171ffee",
   "metadata": {},
   "outputs": [
    {
     "data": {
      "text/plain": [
       "6"
      ]
     },
     "execution_count": 6,
     "metadata": {},
     "output_type": "execute_result"
    }
   ],
   "source": [
    "successor(5)"
   ]
  },
  {
   "cell_type": "markdown",
   "id": "a11ac886",
   "metadata": {},
   "source": [
    "__Jargon remark.__ The variable $n$ in successor is called the function's __parameter__, whereas $5$ is called __argument__. In short, __parameter__ is the variable, and __argument__ is a value."
   ]
  },
  {
   "cell_type": "markdown",
   "id": "6e19750b",
   "metadata": {},
   "source": [
    "### Passing arguments"
   ]
  },
  {
   "cell_type": "markdown",
   "id": "646f33e3",
   "metadata": {},
   "source": [
    "#### Positional Arguments"
   ]
  },
  {
   "cell_type": "markdown",
   "id": "9d1518a3",
   "metadata": {},
   "source": [
    "Functions may have many parameters. For instance, let's say you want to code,\n",
    "\n",
    "$$f(x, y) = xy^{2}$$"
   ]
  },
  {
   "cell_type": "code",
   "execution_count": 7,
   "id": "7799b09c",
   "metadata": {},
   "outputs": [],
   "source": [
    "def f(x, y):\n",
    "    return x * pow(y, 2)"
   ]
  },
  {
   "cell_type": "markdown",
   "id": "8ee8be27",
   "metadata": {},
   "source": [
    "You can call this function with any two values for $x$ and $y$. For instance, let $x = 2$ and $y = 3$,\n",
    "\n",
    "$$z = f(x, y) = 2 \\times 3^{2} = 18$$"
   ]
  },
  {
   "cell_type": "code",
   "execution_count": 8,
   "id": "4086bef9",
   "metadata": {},
   "outputs": [
    {
     "name": "stdout",
     "output_type": "stream",
     "text": [
      "18\n"
     ]
    }
   ],
   "source": [
    "z = f(2, 3)\n",
    "\n",
    "print(z)"
   ]
  },
  {
   "cell_type": "markdown",
   "id": "71e92d5d",
   "metadata": {},
   "source": [
    "If, otherwise $x = 3$ and $y = 2$,\n",
    "\n",
    "$$z = f(x, y) = 3 \\times 2^{2} = 12$$"
   ]
  },
  {
   "cell_type": "code",
   "execution_count": 9,
   "id": "feb37578",
   "metadata": {},
   "outputs": [
    {
     "name": "stdout",
     "output_type": "stream",
     "text": [
      "12\n"
     ]
    }
   ],
   "source": [
    "z = f(3, 2)\n",
    "\n",
    "print(z)"
   ]
  },
  {
   "cell_type": "markdown",
   "id": "5f3bdb58",
   "metadata": {},
   "source": [
    "note that, in this case, Python matches variables with values by __position__. This is called positional passing. Let us say you did not pass these positional arguments,"
   ]
  },
  {
   "cell_type": "code",
   "execution_count": 10,
   "id": "453a87fa",
   "metadata": {},
   "outputs": [
    {
     "ename": "TypeError",
     "evalue": "f() missing 2 required positional arguments: 'x' and 'y'",
     "output_type": "error",
     "traceback": [
      "\u001b[1;31m---------------------------------------------------------------------------\u001b[0m",
      "\u001b[1;31mTypeError\u001b[0m                                 Traceback (most recent call last)",
      "\u001b[1;32mlucabarri\\python4ds\\lectures\\Lecture 4 - Functions and Classes.ipynb Cell 24\u001b[0m line \u001b[0;36m1\n\u001b[1;32m----> <a href='vscode-notebook-cell://github/lucabarri/python4ds/lectures/Lecture%204%20-%20Functions%20and%20Classes.ipynb#X32sdnNjb2RlLXZmcw%3D%3D?line=0'>1</a>\u001b[0m f()\n",
      "\u001b[1;31mTypeError\u001b[0m: f() missing 2 required positional arguments: 'x' and 'y'"
     ]
    }
   ],
   "source": [
    "f()"
   ]
  },
  {
   "cell_type": "markdown",
   "id": "23949c1c",
   "metadata": {},
   "source": [
    "here Python throws an error, indicating that $f$, as it was defined, needs 2 __positional arguments__. If you provide more than 2 arguments, it will throw an error as well,"
   ]
  },
  {
   "cell_type": "code",
   "execution_count": 11,
   "id": "97e24f30",
   "metadata": {},
   "outputs": [
    {
     "ename": "TypeError",
     "evalue": "f() takes 2 positional arguments but 3 were given",
     "output_type": "error",
     "traceback": [
      "\u001b[1;31m---------------------------------------------------------------------------\u001b[0m",
      "\u001b[1;31mTypeError\u001b[0m                                 Traceback (most recent call last)",
      "\u001b[1;32mlucabarri\\python4ds\\lectures\\Lecture 4 - Functions and Classes.ipynb Cell 26\u001b[0m line \u001b[0;36m1\n\u001b[1;32m----> <a href='vscode-notebook-cell://github/lucabarri/python4ds/lectures/Lecture%204%20-%20Functions%20and%20Classes.ipynb#X34sdnNjb2RlLXZmcw%3D%3D?line=0'>1</a>\u001b[0m f(\u001b[39m1\u001b[39;49m, \u001b[39m2\u001b[39;49m, \u001b[39m3\u001b[39;49m)\n",
      "\u001b[1;31mTypeError\u001b[0m: f() takes 2 positional arguments but 3 were given"
     ]
    }
   ],
   "source": [
    "f(1, 2, 3)"
   ]
  },
  {
   "cell_type": "markdown",
   "id": "972e7939",
   "metadata": {},
   "source": [
    "#### Keyword Arguments"
   ]
  },
  {
   "cell_type": "markdown",
   "id": "dbb1c91b",
   "metadata": {},
   "source": [
    "A second way you can pass arguments is through keywords. In this case, you indicate the name of the variable when passing to the function,"
   ]
  },
  {
   "cell_type": "code",
   "execution_count": 12,
   "id": "30875674",
   "metadata": {},
   "outputs": [
    {
     "name": "stdout",
     "output_type": "stream",
     "text": [
      "12\n"
     ]
    }
   ],
   "source": [
    "z = f(x=3, y=2)\n",
    "\n",
    "print(z)"
   ]
  },
  {
   "cell_type": "markdown",
   "id": "21f8b32a",
   "metadata": {},
   "source": [
    "when passing arguments through keywords, order does not matter,"
   ]
  },
  {
   "cell_type": "code",
   "execution_count": 13,
   "id": "264eb7a1",
   "metadata": {},
   "outputs": [
    {
     "name": "stdout",
     "output_type": "stream",
     "text": [
      "12\n"
     ]
    }
   ],
   "source": [
    "z = f(y=2, x=3)\n",
    "\n",
    "print(z)"
   ]
  },
  {
   "cell_type": "markdown",
   "id": "7a0a7b2a",
   "metadata": {},
   "source": [
    "__Note.__ If you provide a keyword that is not present in the function definition, Python will throw an error as well,"
   ]
  },
  {
   "cell_type": "code",
   "execution_count": 14,
   "id": "962d3813",
   "metadata": {},
   "outputs": [
    {
     "ename": "TypeError",
     "evalue": "f() got an unexpected keyword argument 'z'",
     "output_type": "error",
     "traceback": [
      "\u001b[1;31m---------------------------------------------------------------------------\u001b[0m",
      "\u001b[1;31mTypeError\u001b[0m                                 Traceback (most recent call last)",
      "\u001b[1;32mlucabarri\\python4ds\\lectures\\Lecture 4 - Functions and Classes.ipynb Cell 33\u001b[0m line \u001b[0;36m1\n\u001b[1;32m----> <a href='vscode-notebook-cell://github/lucabarri/python4ds/lectures/Lecture%204%20-%20Functions%20and%20Classes.ipynb#X44sdnNjb2RlLXZmcw%3D%3D?line=0'>1</a>\u001b[0m z \u001b[39m=\u001b[39m f(x\u001b[39m=\u001b[39;49m\u001b[39m2\u001b[39;49m, y\u001b[39m=\u001b[39;49m\u001b[39m3\u001b[39;49m, z\u001b[39m=\u001b[39;49m\u001b[39m3\u001b[39;49m)\n",
      "\u001b[1;31mTypeError\u001b[0m: f() got an unexpected keyword argument 'z'"
     ]
    }
   ],
   "source": [
    "z = f(x=2, y=3, z=3)"
   ]
  },
  {
   "cell_type": "markdown",
   "id": "517f7c11",
   "metadata": {},
   "source": [
    "#### Default Values"
   ]
  },
  {
   "cell_type": "markdown",
   "id": "7132beba",
   "metadata": {},
   "source": [
    "In Python, you may easily define default values for variables:"
   ]
  },
  {
   "cell_type": "code",
   "execution_count": 15,
   "id": "096eeff0",
   "metadata": {},
   "outputs": [],
   "source": [
    "def f(x, y=2):\n",
    "    return x * pow(y, 2)"
   ]
  },
  {
   "cell_type": "code",
   "execution_count": 16,
   "id": "5af6abc4",
   "metadata": {},
   "outputs": [
    {
     "name": "stdout",
     "output_type": "stream",
     "text": [
      "20\n"
     ]
    }
   ],
   "source": [
    "z = f(5)\n",
    "\n",
    "print(z)"
   ]
  },
  {
   "cell_type": "markdown",
   "id": "14b88dd2",
   "metadata": {},
   "source": [
    "here, since you did not pass the value of $y$, Python takes the default $y := 2$. However, $x$ is still required, as shown below,"
   ]
  },
  {
   "cell_type": "code",
   "execution_count": 17,
   "id": "b7d6f3d9",
   "metadata": {},
   "outputs": [
    {
     "ename": "TypeError",
     "evalue": "f() missing 1 required positional argument: 'x'",
     "output_type": "error",
     "traceback": [
      "\u001b[1;31m---------------------------------------------------------------------------\u001b[0m",
      "\u001b[1;31mTypeError\u001b[0m                                 Traceback (most recent call last)",
      "\u001b[1;32mlucabarri\\python4ds\\lectures\\Lecture 4 - Functions and Classes.ipynb Cell 39\u001b[0m line \u001b[0;36m1\n\u001b[1;32m----> <a href='vscode-notebook-cell://github/lucabarri/python4ds/lectures/Lecture%204%20-%20Functions%20and%20Classes.ipynb#X53sdnNjb2RlLXZmcw%3D%3D?line=0'>1</a>\u001b[0m z \u001b[39m=\u001b[39m f()\n",
      "\u001b[1;31mTypeError\u001b[0m: f() missing 1 required positional argument: 'x'"
     ]
    }
   ],
   "source": [
    "z = f()"
   ]
  },
  {
   "cell_type": "markdown",
   "id": "1758840f",
   "metadata": {},
   "source": [
    "note here that, since $y := 2$ by default, Python only requires __one__ positional argument."
   ]
  },
  {
   "cell_type": "markdown",
   "id": "a732c58e",
   "metadata": {},
   "source": [
    "#### Returning multiple values"
   ]
  },
  {
   "cell_type": "markdown",
   "id": "81e25bf7",
   "metadata": {},
   "source": [
    "Let's say you want to implement,\n",
    "\n",
    "$$f(x, y) = \\biggr{(}\\frac{x}{x^{2}+y^{2}}, \\frac{y}{x^{2}+y^{2}}\\biggr{)}$$\n",
    "\n",
    "here, you need to return 2 values, corresponding to the 1st and 2nd components of the result vector. Python supports returning both values,"
   ]
  },
  {
   "cell_type": "code",
   "execution_count": 18,
   "id": "b6320dba",
   "metadata": {},
   "outputs": [],
   "source": [
    "def f(x, y):\n",
    "    r = pow(x, 2) + pow(y, 2)\n",
    "    u = x / r\n",
    "    v = y / r\n",
    "    \n",
    "    return u, v"
   ]
  },
  {
   "cell_type": "code",
   "execution_count": 19,
   "id": "0cc84667",
   "metadata": {},
   "outputs": [
    {
     "name": "stdout",
     "output_type": "stream",
     "text": [
      "(0.1724137931034483, 0.06896551724137931)\n"
     ]
    }
   ],
   "source": [
    "values = f(5, 2)\n",
    "\n",
    "print(values)"
   ]
  },
  {
   "cell_type": "markdown",
   "id": "e039a069",
   "metadata": {},
   "source": [
    "__Note.__ When returning multiple values, Python interprets the group of values by default as a tuple,"
   ]
  },
  {
   "cell_type": "code",
   "execution_count": 20,
   "id": "0fb16c8a",
   "metadata": {},
   "outputs": [
    {
     "data": {
      "text/plain": [
       "tuple"
      ]
     },
     "execution_count": 20,
     "metadata": {},
     "output_type": "execute_result"
    }
   ],
   "source": [
    "type(values)"
   ]
  },
  {
   "cell_type": "markdown",
   "id": "d41e8b1c",
   "metadata": {},
   "source": [
    "you could, instead, use a list,"
   ]
  },
  {
   "cell_type": "code",
   "execution_count": 21,
   "id": "9c94a54d",
   "metadata": {},
   "outputs": [],
   "source": [
    "def f(x, y):\n",
    "    r = pow(x, 2) + pow(y, 2)\n",
    "    u = x / r\n",
    "    v = y / r\n",
    "    \n",
    "    return [u, v]"
   ]
  },
  {
   "cell_type": "code",
   "execution_count": 22,
   "id": "e42ec419",
   "metadata": {},
   "outputs": [
    {
     "name": "stdout",
     "output_type": "stream",
     "text": [
      "[0.1724137931034483, 0.06896551724137931]\n"
     ]
    }
   ],
   "source": [
    "values = f(5, 2)\n",
    "\n",
    "print(values)"
   ]
  },
  {
   "cell_type": "code",
   "execution_count": 23,
   "id": "614884e1",
   "metadata": {},
   "outputs": [
    {
     "data": {
      "text/plain": [
       "list"
      ]
     },
     "execution_count": 23,
     "metadata": {},
     "output_type": "execute_result"
    }
   ],
   "source": [
    "type(values)"
   ]
  },
  {
   "cell_type": "markdown",
   "id": "766a9bf3",
   "metadata": {},
   "source": [
    "in either case you can retrieve the values of $u$ and $v$ directly,"
   ]
  },
  {
   "cell_type": "code",
   "execution_count": 24,
   "id": "a26ca1bb",
   "metadata": {},
   "outputs": [
    {
     "name": "stdout",
     "output_type": "stream",
     "text": [
      "0.1724137931034483 0.06896551724137931\n"
     ]
    }
   ],
   "source": [
    "u, v = f(5, 2)\n",
    "\n",
    "print(u, v)"
   ]
  },
  {
   "cell_type": "markdown",
   "id": "bfcb3899",
   "metadata": {},
   "source": [
    "### Receiving arguments through lists and dictionaries"
   ]
  },
  {
   "cell_type": "markdown",
   "id": "b4e2b797",
   "metadata": {},
   "source": [
    "If your function accepts multiple parameters, you can pass them through a list. For instance,"
   ]
  },
  {
   "cell_type": "code",
   "execution_count": 25,
   "id": "53a9eafd",
   "metadata": {},
   "outputs": [
    {
     "name": "stdout",
     "output_type": "stream",
     "text": [
      "[0.1724137931034483, 0.06896551724137931]\n"
     ]
    }
   ],
   "source": [
    "input_vector = [5, 2]\n",
    "output_vector = f(*input_vector)\n",
    "\n",
    "print(output_vector)"
   ]
  },
  {
   "cell_type": "markdown",
   "id": "053ff052",
   "metadata": {},
   "source": [
    "the ```*``` symbol indicates to Python that it should __unpack__ the values in the list ```input_vector```. The same could be applied to print,"
   ]
  },
  {
   "cell_type": "code",
   "execution_count": 26,
   "id": "680fc2f9",
   "metadata": {},
   "outputs": [
    {
     "name": "stdout",
     "output_type": "stream",
     "text": [
      "0.1724137931034483 0.06896551724137931\n"
     ]
    }
   ],
   "source": [
    "print(*output_vector)"
   ]
  },
  {
   "cell_type": "markdown",
   "id": "f07a5d67",
   "metadata": {},
   "source": [
    "this is useful when the values in ```input_vector``` is aligned with the positional arguments of $f$. Otherwise, you could use a dictionary to pass keyword arguments,"
   ]
  },
  {
   "cell_type": "code",
   "execution_count": 27,
   "id": "c7f440ff",
   "metadata": {},
   "outputs": [
    {
     "name": "stdout",
     "output_type": "stream",
     "text": [
      "[0.1724137931034483, 0.06896551724137931]\n"
     ]
    }
   ],
   "source": [
    "input_dictionary = {'x': 5, 'y': 2}\n",
    "output_vector = f(**input_dictionary)\n",
    "\n",
    "print(output_vector)"
   ]
  },
  {
   "cell_type": "markdown",
   "id": "acf54f5c",
   "metadata": {},
   "source": [
    "here, Python uses ```**``` to unpack the dictionary."
   ]
  },
  {
   "cell_type": "markdown",
   "id": "9dcda521",
   "metadata": {},
   "source": [
    "## Anonymous Functions"
   ]
  },
  {
   "cell_type": "markdown",
   "id": "f7fa5dc0",
   "metadata": {},
   "source": [
    "In computer programming, [Anonymous, or Lambda Functions](https://en.wikipedia.org/wiki/Anonymous_function) are functions that are not bound to bound to an identifier. On one hand, so far we have presented functions which are bound to its definition. For instance, when we declare ```def f(x, y)```, this funciton is bound to the name $f$. On the other hand, an implicit function can be used for containing functionality that need not be named and is possibly for short-term use."
   ]
  },
  {
   "cell_type": "markdown",
   "id": "d1897e34",
   "metadata": {},
   "source": [
    "### Example 1: Sorting by number of characters\n",
    "\n",
    "In this example, let's say you have strings in a list. You want to sort these by number of characters,"
   ]
  },
  {
   "cell_type": "code",
   "execution_count": 28,
   "id": "a446f824",
   "metadata": {},
   "outputs": [
    {
     "name": "stdout",
     "output_type": "stream",
     "text": [
      "['apple', 'bike', 'car', 'house', 'zero']\n"
     ]
    }
   ],
   "source": [
    "a = ['zero', 'car', 'bike', 'apple', 'house']\n",
    "a.sort()\n",
    "print(a)"
   ]
  },
  {
   "cell_type": "markdown",
   "id": "23320502",
   "metadata": {},
   "source": [
    "note that ```.sort()``` sorts by alphabetic order. To change the behavior of this function we use the argument __key__,"
   ]
  },
  {
   "cell_type": "code",
   "execution_count": 29,
   "id": "0aa7b202",
   "metadata": {},
   "outputs": [
    {
     "name": "stdout",
     "output_type": "stream",
     "text": [
      "['car', 'zero', 'bike', 'apple', 'house']\n"
     ]
    }
   ],
   "source": [
    "a = ['zero', 'car', 'bike', 'apple', 'house']\n",
    "a.sort(key=lambda x: len(x))\n",
    "print(a)"
   ]
  },
  {
   "cell_type": "markdown",
   "id": "7bc556f6",
   "metadata": {},
   "source": [
    "here, the argument ```key``` is somewhat misleading. It actually refers to a __key function__, i.e., a function that acts on the elements of the list and sort them according to the function values. This is described below,"
   ]
  },
  {
   "cell_type": "code",
   "execution_count": 30,
   "id": "cccd43c7",
   "metadata": {},
   "outputs": [
    {
     "name": "stdout",
     "output_type": "stream",
     "text": [
      "Help on built-in function sort:\n",
      "\n",
      "sort(*, key=None, reverse=False) method of builtins.list instance\n",
      "    Sort the list in ascending order and return None.\n",
      "    \n",
      "    The sort is in-place (i.e. the list itself is modified) and stable (i.e. the\n",
      "    order of two equal elements is maintained).\n",
      "    \n",
      "    If a key function is given, apply it once to each list item and sort them,\n",
      "    ascending or descending, according to their function values.\n",
      "    \n",
      "    The reverse flag can be set to sort in descending order.\n",
      "\n"
     ]
    }
   ],
   "source": [
    "help(a.sort)"
   ]
  },
  {
   "cell_type": "markdown",
   "id": "937cdf76",
   "metadata": {},
   "source": [
    "### Example 2: Argsort\n",
    "\n",
    "Sorting, means that for a sequence of numbers $(a_{1},\\cdots,a_{n})$, you want to rearange these values into $(a_{i_{1}},\\cdots,a_{i_{n}})$ s.t. $a_{i_{1}} \\leq a_{i_{2}} \\leq \\cdots \\leq a_{i_{n}}$. Argsort refers to recovering the indices $i_{1},i_{2},\\cdots,i_{n}$ of such sorting. To do so, we need the built-in function ```sorted```,"
   ]
  },
  {
   "cell_type": "code",
   "execution_count": 31,
   "id": "bb94eb49",
   "metadata": {},
   "outputs": [
    {
     "name": "stdout",
     "output_type": "stream",
     "text": [
      "Help on built-in function sorted in module builtins:\n",
      "\n",
      "sorted(iterable, /, *, key=None, reverse=False)\n",
      "    Return a new list containing all items from the iterable in ascending order.\n",
      "    \n",
      "    A custom key function can be supplied to customize the sort order, and the\n",
      "    reverse flag can be set to request the result in descending order.\n",
      "\n"
     ]
    }
   ],
   "source": [
    "help(sorted)"
   ]
  },
  {
   "cell_type": "markdown",
   "id": "b2627ba2",
   "metadata": {},
   "source": [
    "note that, while ```a.sort()``` acts on the list ```a```, ```sorted``` receives the list (or, more generally, the iterable) and sorts accordingly. The behavior of ```key``` is exactly the same.\n",
    "\n",
    "We need a few ingredients. First, we need tuples $(i, a_{i})$, so that we can sort w.r.t. $a_{i}$. This is done through ```enumerate()```"
   ]
  },
  {
   "cell_type": "code",
   "execution_count": 109,
   "id": "9d5762cd",
   "metadata": {},
   "outputs": [
    {
     "name": "stdout",
     "output_type": "stream",
     "text": [
      "<enumerate object at 0x0000023643551120>\n",
      "[(0, 10), (1, 80), (2, 30), (3, 60), (4, 50), (5, 40), (6, 70), (7, 20)]\n"
     ]
    }
   ],
   "source": [
    "a = [10, 80, 30, 60, 50, 40, 70, 20]\n",
    "print(enumerate(a))\n",
    "\n",
    "print(list(enumerate(a)))"
   ]
  },
  {
   "cell_type": "markdown",
   "id": "442360a3",
   "metadata": {},
   "source": [
    "note that ```enumerate(a)``` returns an ```enumerate_object```, which is an iterable. If we call sorted on this iterable it will simply sort w.r.t. the index (which appers first in the tuples), which is not very interesting,"
   ]
  },
  {
   "cell_type": "code",
   "execution_count": 110,
   "id": "52c8ba80",
   "metadata": {},
   "outputs": [
    {
     "data": {
      "text/plain": [
       "[(0, 10), (1, 80), (2, 30), (3, 60), (4, 50), (5, 40), (6, 70), (7, 20)]"
      ]
     },
     "execution_count": 110,
     "metadata": {},
     "output_type": "execute_result"
    }
   ],
   "source": [
    "sorted(enumerate(a))"
   ]
  },
  {
   "cell_type": "markdown",
   "id": "6a6578cc",
   "metadata": {},
   "source": [
    "A possible workaround would be to inverse the positions of $i$ and $a_{i}$. Look at the behavior of the following block,"
   ]
  },
  {
   "cell_type": "code",
   "execution_count": 111,
   "id": "6ed7b799",
   "metadata": {},
   "outputs": [
    {
     "name": "stdout",
     "output_type": "stream",
     "text": [
      "[0, 7, 2, 5, 4, 3, 6, 1]\n"
     ]
    }
   ],
   "source": [
    "tuples = sorted([(ai, i) for i, ai in enumerate(a)])\n",
    "sorted_indices = [i for ai, i in tuples]\n",
    "\n",
    "print(sorted_indices)"
   ]
  },
  {
   "cell_type": "markdown",
   "id": "40df1f5b",
   "metadata": {},
   "source": [
    "this certainly does what we want. But we can solve this problem more elegantly with anonymous functions. You already saw this in the last lecture,"
   ]
  },
  {
   "cell_type": "code",
   "execution_count": 112,
   "id": "0ed1a8a2",
   "metadata": {},
   "outputs": [
    {
     "name": "stdout",
     "output_type": "stream",
     "text": [
      "[0, 7, 2, 5, 4, 3, 6, 1]\n"
     ]
    }
   ],
   "source": [
    "sorted_indices = [i for i, _ in sorted(enumerate(a), key=lambda x: x[1])]\n",
    "print(sorted_indices)"
   ]
  },
  {
   "cell_type": "markdown",
   "id": "1afa869e",
   "metadata": {},
   "source": [
    "__Note.__ Here, the key function is applied to elements of ```enumerate(a)```, which are tuples $(i, a_{i})$. Since we want to sort __by value__, we need to get $a_{i}$ from $x = (i, a_{i})$, i.e., $x[1]$"
   ]
  },
  {
   "cell_type": "markdown",
   "id": "59c8af2a",
   "metadata": {},
   "source": [
    "## Scope"
   ]
  },
  {
   "cell_type": "markdown",
   "id": "73fbe9e2",
   "metadata": {},
   "source": [
    "In programming, the [__scope__](https://en.wikipedia.org/wiki/Scope_(computer_science)) of a variable is the part of a program in which such variable is valid. Usually, one makes a difference between __global__ variables, and __local__ variables.\n",
    "\n",
    "__Global Variables.__ These variables are valid throughout the entire program. For instance, let's say we want to implement $f(x, y) = x \\times y$, and we want to evaluate $g(x) = f(x, y_{0})$, for $y_{0} := 10$. In this case,"
   ]
  },
  {
   "cell_type": "code",
   "execution_count": 113,
   "id": "35f7731c",
   "metadata": {},
   "outputs": [
    {
     "name": "stdout",
     "output_type": "stream",
     "text": [
      "50\n"
     ]
    }
   ],
   "source": [
    "y0 = 10\n",
    "\n",
    "def g(x):\n",
    "    return y0 * x\n",
    "\n",
    "print(g(5))"
   ]
  },
  {
   "cell_type": "markdown",
   "id": "977f79dc",
   "metadata": {},
   "source": [
    "here, note that the value of $y_{0}$ is __global__, i.e., it is accessibel even inside the function $g(x)$."
   ]
  },
  {
   "cell_type": "markdown",
   "id": "0841c704",
   "metadata": {},
   "source": [
    "__Local Variables.__ These variables are valid only inside a function, or a class. For instance, let us reconsider the case of \n",
    "\n",
    "$$f(x, y) = \\biggr{(}\\frac{x}{x^{2}+y^{2}}, \\frac{y}{x^{2}+y^{2}}\\biggr{)}$$"
   ]
  },
  {
   "cell_type": "code",
   "execution_count": 37,
   "id": "82b52b7a",
   "metadata": {},
   "outputs": [],
   "source": [
    "def f(x, y):\n",
    "    r = pow(x, 2) + pow(y, 2)\n",
    "    u = x / r\n",
    "    v = y / r\n",
    "    \n",
    "    return [u, v]"
   ]
  },
  {
   "cell_type": "code",
   "execution_count": 38,
   "id": "57955845",
   "metadata": {},
   "outputs": [
    {
     "name": "stdout",
     "output_type": "stream",
     "text": [
      "[0.2, 0.4] 0.1724137931034483 0.06896551724137931\n"
     ]
    }
   ],
   "source": [
    "print(f(1, 2), u, v)"
   ]
  },
  {
   "cell_type": "markdown",
   "id": "197a525a",
   "metadata": {},
   "source": [
    "note that since $u$ and $v$ are defined inside the function block, they are visible only __inside__ the function. These variables are therefore not valid outside __the scope of the function__."
   ]
  },
  {
   "cell_type": "markdown",
   "id": "0f76e8f0",
   "metadata": {},
   "source": [
    "__Note on good practices.__ Using global variables is usually regarded as a bad progamming practice. Since these variables have the scope of a whole file, it is really difficulty to keep track of which functions read or write in these variables. A possibly accepted way would be to use these variables as a \"read-only\" resource, but this is not directly possible in Python"
   ]
  },
  {
   "cell_type": "markdown",
   "id": "4c13f93d",
   "metadata": {},
   "source": [
    "### Nested Functions"
   ]
  },
  {
   "cell_type": "markdown",
   "id": "b1cf19b9",
   "metadata": {},
   "source": [
    "as with for loops, you may declare \"functions within functions\". Here's an example,"
   ]
  },
  {
   "cell_type": "code",
   "execution_count": 39,
   "id": "df0e5dc2",
   "metadata": {},
   "outputs": [],
   "source": [
    "def g(x):\n",
    "    y_0 = 10\n",
    "    def f(x, y):\n",
    "        return x * y\n",
    "    return f(x, y_0)"
   ]
  },
  {
   "cell_type": "code",
   "execution_count": 40,
   "id": "dcdeb6d9",
   "metadata": {},
   "outputs": [
    {
     "name": "stdout",
     "output_type": "stream",
     "text": [
      "50\n"
     ]
    }
   ],
   "source": [
    "print(g(5))"
   ]
  },
  {
   "cell_type": "markdown",
   "id": "61fb3ed6",
   "metadata": {},
   "source": [
    "__Closures.__ In programming, [a closure](https://en.wikipedia.org/wiki/Closure_(computer_programming)) is a technique designed for cases where a function must have access to variables in a determined, limited scope. You can think about it as a way to parametrize functions. Let us consider the following example,"
   ]
  },
  {
   "cell_type": "code",
   "execution_count": 41,
   "id": "291a63be",
   "metadata": {},
   "outputs": [],
   "source": [
    "def f(y):\n",
    "    def g(x):\n",
    "        return x * y\n",
    "    return g"
   ]
  },
  {
   "cell_type": "markdown",
   "id": "2658790d",
   "metadata": {},
   "source": [
    "the first point you should note is that ```f``` returns __a function__, that is,"
   ]
  },
  {
   "cell_type": "code",
   "execution_count": 42,
   "id": "43d69cf7",
   "metadata": {},
   "outputs": [
    {
     "name": "stdout",
     "output_type": "stream",
     "text": [
      "<function f.<locals>.g at 0x0000023643AEFCE0>\n"
     ]
    }
   ],
   "source": [
    "print(f(10))"
   ]
  },
  {
   "cell_type": "markdown",
   "id": "4d9cfe89",
   "metadata": {},
   "source": [
    "now, let us make sense of the function returned by ```f```,"
   ]
  },
  {
   "cell_type": "code",
   "execution_count": 43,
   "id": "3baf98cc",
   "metadata": {},
   "outputs": [
    {
     "name": "stdout",
     "output_type": "stream",
     "text": [
      "50 25 100\n"
     ]
    }
   ],
   "source": [
    "g10 = f(10)\n",
    "g5 = f(5)\n",
    "g20 = f(20)\n",
    "\n",
    "print(g10(5), g5(5), g20(5))"
   ]
  },
  {
   "cell_type": "markdown",
   "id": "d0f3a2db",
   "metadata": {},
   "source": [
    "note that, in practice, $g_{10}(x) = 10x, g_{5}(x) = 5x$ and $g_{20}(x) = 20x$. In other words, we created a function that parametrizes $g$, i.e., $y\\mapsto g_{y}(x) = x\\times y$."
   ]
  },
  {
   "cell_type": "markdown",
   "id": "4d888891",
   "metadata": {},
   "source": [
    "from the point of view of the scope, $g$ has access to all variables declared within the scope of $f$.\n",
    "\n",
    "__Syntax note.__ You could also use ```lambda``` for implementing closures,"
   ]
  },
  {
   "cell_type": "code",
   "execution_count": 44,
   "id": "b9795342",
   "metadata": {},
   "outputs": [],
   "source": [
    "def f(y):\n",
    "    return lambda x: x * y"
   ]
  },
  {
   "cell_type": "code",
   "execution_count": 45,
   "id": "d82e0f73",
   "metadata": {},
   "outputs": [
    {
     "name": "stdout",
     "output_type": "stream",
     "text": [
      "<function f.<locals>.<lambda> at 0x000002364070D6C0>\n"
     ]
    }
   ],
   "source": [
    "print(f(10))"
   ]
  },
  {
   "cell_type": "markdown",
   "id": "152c014d",
   "metadata": {},
   "source": [
    "__Conceptual Note.__ A program language is said to [__treat functions__ are __first-class citizens__](https://en.wikipedia.org/wiki/First-class_function) if it treats functions as any other object in the language. This means the language supports passing functions as arguments to other functions, returning them as the values from other functions, and assigning them to variables or storing them in data structures. You can read more about this [here](https://en.wikipedia.org/wiki/First-class_citizen).\n",
    "\n",
    "This means that you should treat Python functions as any other Python data type. This allows you to receive and return Python functions within functions."
   ]
  },
  {
   "cell_type": "markdown",
   "id": "8c02c5eb",
   "metadata": {},
   "source": [
    "#### Example: Derivatives"
   ]
  },
  {
   "cell_type": "markdown",
   "id": "a285ea0e",
   "metadata": {},
   "source": [
    "Here, we consider the [Numerical Differentiation](https://en.wikipedia.org/wiki/Numerical_differentiation) of a function. For a fixed $h$, the derivative of $f$ at $x$ is,\n",
    "\n",
    "$$f'(x) = \\dfrac{f(x+h)-f(x)}{h}$$\n",
    "\n",
    "we can implement the derivative of $f$ using closures,"
   ]
  },
  {
   "cell_type": "code",
   "execution_count": 46,
   "id": "d3030a2f",
   "metadata": {},
   "outputs": [],
   "source": [
    "def df(f, h):\n",
    "    return lambda x: (f(x + h) - f(x)) / h"
   ]
  },
  {
   "cell_type": "markdown",
   "id": "37783232",
   "metadata": {},
   "source": [
    "for instance, let us take the derivative of $f(x) = x^{2}$ with $h = 0.01$, which is $f'(x) = 2x$. In this case,"
   ]
  },
  {
   "cell_type": "code",
   "execution_count": 47,
   "id": "06440411",
   "metadata": {},
   "outputs": [],
   "source": [
    "derivative = df(lambda x: pow(x, 2), 0.01)"
   ]
  },
  {
   "cell_type": "code",
   "execution_count": 48,
   "id": "8fa6cf49",
   "metadata": {},
   "outputs": [],
   "source": [
    "x_range = [-8.0, -4.0, -2.0, -1.5, -1.0, 0.0, 1.0, 1.5, 2.0, 4.0, 8.0]"
   ]
  },
  {
   "cell_type": "code",
   "execution_count": 49,
   "id": "55aa16f0",
   "metadata": {},
   "outputs": [
    {
     "name": "stdout",
     "output_type": "stream",
     "text": [
      "-15.989999999999327\n",
      "-7.989999999999853\n",
      "-3.9899999999999824\n",
      "-2.9900000000000038\n",
      "-1.9900000000000029\n",
      "0.01\n",
      "2.0100000000000007\n",
      "3.0100000000000016\n",
      "4.009999999999891\n",
      "8.009999999999806\n",
      "16.00999999999999\n"
     ]
    }
   ],
   "source": [
    "for x in x_range:\n",
    "    print(derivative(x))"
   ]
  },
  {
   "cell_type": "markdown",
   "id": "08cd2f86",
   "metadata": {},
   "source": [
    "### Python Decorators"
   ]
  },
  {
   "cell_type": "markdown",
   "id": "6505c1b3",
   "metadata": {},
   "source": [
    "A decorator __wraps__ a function, modifying its behavior. It is conceptually similar to a closure. Let's see an example,"
   ]
  },
  {
   "cell_type": "code",
   "execution_count": 50,
   "id": "885b898a",
   "metadata": {},
   "outputs": [],
   "source": [
    "def decorator_example(f):\n",
    "    def wrapper():\n",
    "        print('Starting execution of my function')\n",
    "        f()\n",
    "        print('Finished execution')\n",
    "    return wrapper"
   ]
  },
  {
   "cell_type": "code",
   "execution_count": 51,
   "id": "93bfc2c9",
   "metadata": {},
   "outputs": [],
   "source": [
    "def func():\n",
    "    print(\"hello world!\")"
   ]
  },
  {
   "cell_type": "code",
   "execution_count": 52,
   "id": "5d5aaa11",
   "metadata": {},
   "outputs": [],
   "source": [
    "func = decorator_example(func)"
   ]
  },
  {
   "cell_type": "code",
   "execution_count": 53,
   "id": "0121e46c",
   "metadata": {},
   "outputs": [
    {
     "name": "stdout",
     "output_type": "stream",
     "text": [
      "Starting execution of my function\n",
      "hello world!\n",
      "Finished execution\n"
     ]
    }
   ],
   "source": [
    "func()"
   ]
  },
  {
   "cell_type": "markdown",
   "id": "a19ca2cd",
   "metadata": {},
   "source": [
    "here, note that the decorator returned a function which applies additional code to the execution of its argument.\n",
    "\n",
    "__Syntax note.__ You could also declare the decorated function as follows,"
   ]
  },
  {
   "cell_type": "code",
   "execution_count": 54,
   "id": "091698cc",
   "metadata": {},
   "outputs": [],
   "source": [
    "@decorator_example\n",
    "def func():\n",
    "    print(\"hello world\")"
   ]
  },
  {
   "cell_type": "code",
   "execution_count": 55,
   "id": "1509f1d8",
   "metadata": {},
   "outputs": [
    {
     "name": "stdout",
     "output_type": "stream",
     "text": [
      "Starting execution of my function\n",
      "hello world\n",
      "Finished execution\n"
     ]
    }
   ],
   "source": [
    "func()"
   ]
  },
  {
   "cell_type": "markdown",
   "id": "10bb71c7",
   "metadata": {},
   "source": [
    "#### Example: Time execution"
   ]
  },
  {
   "cell_type": "code",
   "execution_count": 56,
   "id": "1d2f6e50",
   "metadata": {},
   "outputs": [],
   "source": [
    "from time import time"
   ]
  },
  {
   "cell_type": "code",
   "execution_count": 57,
   "id": "63d6d9d9",
   "metadata": {},
   "outputs": [],
   "source": [
    "def timed(f):\n",
    "    def wrapper():\n",
    "        start = time()\n",
    "        f()\n",
    "        end = time()\n",
    "        print(f\"Execution took {end - start} seconds.\")\n",
    "    return wrapper"
   ]
  },
  {
   "cell_type": "code",
   "execution_count": 58,
   "id": "1e34825e",
   "metadata": {},
   "outputs": [],
   "source": [
    "@timed\n",
    "def f():\n",
    "    # Counting from 1 to 10^6\n",
    "    for i in range(1, int(1e+6) + 1):\n",
    "        pass"
   ]
  },
  {
   "cell_type": "code",
   "execution_count": 59,
   "id": "afa2d582",
   "metadata": {},
   "outputs": [
    {
     "name": "stdout",
     "output_type": "stream",
     "text": [
      "Execution took 0.02195000648498535 seconds.\n"
     ]
    }
   ],
   "source": [
    "f()"
   ]
  },
  {
   "cell_type": "markdown",
   "id": "08dbfb26",
   "metadata": {},
   "source": [
    "# Classes"
   ]
  },
  {
   "cell_type": "markdown",
   "id": "cbdbd361",
   "metadata": {},
   "source": [
    "[Object-Oriented programming](https://en.wikipedia.org/wiki/Object-oriented_programming) is a programming paradigm based on the concept of objects. In this context, an object is a structure that contains both __data__ and __code__.\n",
    "\n",
    "__Data.__ Objects can hold data through __attributes__. This also allows objects to retain a state.\n",
    "\n",
    "__Code.__ Objects hold code through __methods__, i.e., functions that are particular to a __class__.\n",
    "\n",
    "In a more general framework, objects are __instances__ (i.e., example) from a class. The class determines the objects' attributes and methods. Here's an example,"
   ]
  },
  {
   "cell_type": "code",
   "execution_count": 60,
   "id": "4e056ea9",
   "metadata": {},
   "outputs": [],
   "source": [
    "class Dog:\n",
    "    def __init__(self, name, age):\n",
    "        self.name = name\n",
    "        self.age = age\n",
    "        \n",
    "    def sit(self):\n",
    "        print(f\"{self.name} is now sitting.\")\n",
    "        \n",
    "    def roll_over(self):\n",
    "        print(f\"{self.name} rolled over!\")"
   ]
  },
  {
   "cell_type": "markdown",
   "id": "a77cbab2",
   "metadata": {},
   "source": [
    "here, a __Dog__ has two attributes: ```name``` and ```age```, and three methods: ```__init__```, ```sit``` and ```roll_over```.\n",
    "\n",
    "The method ```__init__``` is called __class constructor__. It serves as a definition for the class, i.e., it receives arguments for setting its attributes. Note that all methods receive ```self``` as first argument. This is required by Python, so that the class' method can access its attributes. Note that ```self``` is used within the scope of a class for referencing itself.\n",
    "\n",
    "Since we defined a class, we can now instantiate it,"
   ]
  },
  {
   "cell_type": "code",
   "execution_count": 61,
   "id": "9197c1e6",
   "metadata": {},
   "outputs": [],
   "source": [
    "my_dog = Dog(\"Willie\", 6)"
   ]
  },
  {
   "cell_type": "markdown",
   "id": "57402aae",
   "metadata": {},
   "source": [
    "here, you can check the attributes of the object,"
   ]
  },
  {
   "cell_type": "code",
   "execution_count": 62,
   "id": "eda72827",
   "metadata": {},
   "outputs": [
    {
     "name": "stdout",
     "output_type": "stream",
     "text": [
      "My dog's name is Willie\n",
      "My dog's is 6 years old\n"
     ]
    }
   ],
   "source": [
    "print(f\"My dog's name is {my_dog.name}\")\n",
    "print(f\"My dog's is {my_dog.age} years old\")"
   ]
  },
  {
   "cell_type": "markdown",
   "id": "c2e9f373",
   "metadata": {},
   "source": [
    "__Syntax note.__ To access the attribute of an object, you use ```.```, and the name of the attribute. If you try to access an attribute that does not exist, Python will throw you an error,"
   ]
  },
  {
   "cell_type": "code",
   "execution_count": 63,
   "id": "5943457d",
   "metadata": {},
   "outputs": [
    {
     "ename": "AttributeError",
     "evalue": "'Dog' object has no attribute 'color'",
     "output_type": "error",
     "traceback": [
      "\u001b[1;31m---------------------------------------------------------------------------\u001b[0m",
      "\u001b[1;31mAttributeError\u001b[0m                            Traceback (most recent call last)",
      "\u001b[1;32mlucabarri\\python4ds\\lectures\\Lecture 4 - Functions and Classes.ipynb Cell 133\u001b[0m line \u001b[0;36m1\n\u001b[1;32m----> <a href='vscode-notebook-cell://github/lucabarri/python4ds/lectures/Lecture%204%20-%20Functions%20and%20Classes.ipynb#Y246sdnNjb2RlLXZmcw%3D%3D?line=0'>1</a>\u001b[0m \u001b[39mprint\u001b[39m(my_dog\u001b[39m.\u001b[39;49mcolor)\n",
      "\u001b[1;31mAttributeError\u001b[0m: 'Dog' object has no attribute 'color'"
     ]
    }
   ],
   "source": [
    "print(my_dog.color)"
   ]
  },
  {
   "cell_type": "markdown",
   "id": "83a9730f",
   "metadata": {},
   "source": [
    "you can call methods in a similar way to attributes,"
   ]
  },
  {
   "cell_type": "code",
   "execution_count": 64,
   "id": "4808f47c",
   "metadata": {},
   "outputs": [
    {
     "name": "stdout",
     "output_type": "stream",
     "text": [
      "Willie is now sitting.\n",
      "Willie rolled over!\n"
     ]
    }
   ],
   "source": [
    "my_dog.sit()\n",
    "my_dog.roll_over()"
   ]
  },
  {
   "cell_type": "markdown",
   "id": "35179949",
   "metadata": {},
   "source": [
    "### Modifying attributes"
   ]
  },
  {
   "cell_type": "markdown",
   "id": "31a45399",
   "metadata": {},
   "source": [
    "#### The direct Method"
   ]
  },
  {
   "cell_type": "markdown",
   "id": "4ce21565",
   "metadata": {},
   "source": [
    "Attributes can be modified directly. For instance,"
   ]
  },
  {
   "cell_type": "code",
   "execution_count": 65,
   "id": "2eaf279b",
   "metadata": {},
   "outputs": [],
   "source": [
    "my_dog = Dog('Willie', 6)\n",
    "my_dog.name = 'Rex'\n",
    "my_dog.age = 10"
   ]
  },
  {
   "cell_type": "code",
   "execution_count": 66,
   "id": "bee7a38c",
   "metadata": {},
   "outputs": [
    {
     "name": "stdout",
     "output_type": "stream",
     "text": [
      "My dog's name is Rex\n",
      "My dog's is 10 years old\n"
     ]
    }
   ],
   "source": [
    "print(f\"My dog's name is {my_dog.name}\")\n",
    "print(f\"My dog's is {my_dog.age} years old\")"
   ]
  },
  {
   "cell_type": "markdown",
   "id": "88440924",
   "metadata": {},
   "source": [
    "#### The indirect method"
   ]
  },
  {
   "cell_type": "markdown",
   "id": "bc976d33",
   "metadata": {},
   "source": [
    "Let's say a (clueless) user wants to change the age of an existing dog. They proceed like this,"
   ]
  },
  {
   "cell_type": "code",
   "execution_count": 67,
   "id": "9669482c",
   "metadata": {},
   "outputs": [],
   "source": [
    "my_dog = Dog('Willie', 6)\n",
    "my_dog.age = -1"
   ]
  },
  {
   "cell_type": "code",
   "execution_count": 68,
   "id": "c5d144fd",
   "metadata": {},
   "outputs": [
    {
     "name": "stdout",
     "output_type": "stream",
     "text": [
      "My dog's name is Willie\n",
      "My dog's is -1 years old\n"
     ]
    }
   ],
   "source": [
    "print(f\"My dog's name is {my_dog.name}\")\n",
    "print(f\"My dog's is {my_dog.age} years old\")"
   ]
  },
  {
   "cell_type": "markdown",
   "id": "aef7dea2",
   "metadata": {},
   "source": [
    "here, a problem arises. An user should not be able to input a negative age for a dog. This motivates the idea of using __getters__ and __setters__ for input/output of class attributes,"
   ]
  },
  {
   "cell_type": "code",
   "execution_count": 69,
   "id": "6144cc18",
   "metadata": {},
   "outputs": [],
   "source": [
    "class Dog:\n",
    "    def __init__(self, name, age):\n",
    "        self.name = name\n",
    "        self.age = age\n",
    "        \n",
    "    def set_name(self, name):\n",
    "        if type(name) is str:\n",
    "            self.name = name\n",
    "        else:\n",
    "            raise AttributeError(f\"Expected name to be str, but got {type(name)}\")\n",
    "\n",
    "    def set_age(self, age):\n",
    "        if type(age) is int:\n",
    "            self.age = age\n",
    "        else:\n",
    "            raise AttributeError(f\"Expected age to be int, but got {type(age)}\")\n",
    "        \n",
    "    def sit(self):\n",
    "        print(f\"{self.name} is now sitting.\")\n",
    "        \n",
    "    def roll_over(self):\n",
    "        print(f\"{self.name} rolled over!\")"
   ]
  },
  {
   "cell_type": "code",
   "execution_count": 70,
   "id": "fc74d3b1",
   "metadata": {},
   "outputs": [],
   "source": [
    "my_dog = Dog('Willie', 6)"
   ]
  },
  {
   "cell_type": "code",
   "execution_count": 71,
   "id": "63d978a8",
   "metadata": {},
   "outputs": [],
   "source": [
    "my_dog.set_name('Rex')\n",
    "my_dog.set_age(10)"
   ]
  },
  {
   "cell_type": "code",
   "execution_count": 72,
   "id": "2f412d50",
   "metadata": {},
   "outputs": [
    {
     "name": "stdout",
     "output_type": "stream",
     "text": [
      "My dog's name is Rex\n",
      "My dog's is 10 years old\n"
     ]
    }
   ],
   "source": [
    "print(f\"My dog's name is {my_dog.name}\")\n",
    "print(f\"My dog's is {my_dog.age} years old\")"
   ]
  },
  {
   "cell_type": "code",
   "execution_count": 73,
   "id": "0b0d03de",
   "metadata": {},
   "outputs": [
    {
     "ename": "AttributeError",
     "evalue": "Expected name to be str, but got <class 'int'>",
     "output_type": "error",
     "traceback": [
      "\u001b[1;31m---------------------------------------------------------------------------\u001b[0m",
      "\u001b[1;31mAttributeError\u001b[0m                            Traceback (most recent call last)",
      "\u001b[1;32mlucabarri\\python4ds\\lectures\\Lecture 4 - Functions and Classes.ipynb Cell 150\u001b[0m line \u001b[0;36m1\n\u001b[1;32m----> <a href='vscode-notebook-cell://github/lucabarri/python4ds/lectures/Lecture%204%20-%20Functions%20and%20Classes.ipynb#Y302sdnNjb2RlLXZmcw%3D%3D?line=0'>1</a>\u001b[0m my_dog\u001b[39m.\u001b[39;49mset_name(\u001b[39m-\u001b[39;49m\u001b[39m1\u001b[39;49m)\n",
      "\u001b[1;32mlucabarri\\python4ds\\lectures\\Lecture 4 - Functions and Classes.ipynb Cell 150\u001b[0m line \u001b[0;36m1\n\u001b[0;32m      <a href='vscode-notebook-cell://github/lucabarri/python4ds/lectures/Lecture%204%20-%20Functions%20and%20Classes.ipynb#Y302sdnNjb2RlLXZmcw%3D%3D?line=7'>8</a>\u001b[0m     \u001b[39mself\u001b[39m\u001b[39m.\u001b[39mname \u001b[39m=\u001b[39m name\n\u001b[0;32m      <a href='vscode-notebook-cell://github/lucabarri/python4ds/lectures/Lecture%204%20-%20Functions%20and%20Classes.ipynb#Y302sdnNjb2RlLXZmcw%3D%3D?line=8'>9</a>\u001b[0m \u001b[39melse\u001b[39;00m:\n\u001b[1;32m---> <a href='vscode-notebook-cell://github/lucabarri/python4ds/lectures/Lecture%204%20-%20Functions%20and%20Classes.ipynb#Y302sdnNjb2RlLXZmcw%3D%3D?line=9'>10</a>\u001b[0m     \u001b[39mraise\u001b[39;00m \u001b[39mAttributeError\u001b[39;00m(\u001b[39mf\u001b[39m\u001b[39m\"\u001b[39m\u001b[39mExpected name to be str, but got \u001b[39m\u001b[39m{\u001b[39;00m\u001b[39mtype\u001b[39m(name)\u001b[39m}\u001b[39;00m\u001b[39m\"\u001b[39m)\n",
      "\u001b[1;31mAttributeError\u001b[0m: Expected name to be str, but got <class 'int'>"
     ]
    }
   ],
   "source": [
    "my_dog.set_name(-1)"
   ]
  },
  {
   "cell_type": "code",
   "execution_count": 74,
   "id": "dbf9ed43",
   "metadata": {},
   "outputs": [
    {
     "ename": "AttributeError",
     "evalue": "Expected age to be int, but got <class 'complex'>",
     "output_type": "error",
     "traceback": [
      "\u001b[1;31m---------------------------------------------------------------------------\u001b[0m",
      "\u001b[1;31mAttributeError\u001b[0m                            Traceback (most recent call last)",
      "\u001b[1;32mlucabarri\\python4ds\\lectures\\Lecture 4 - Functions and Classes.ipynb Cell 151\u001b[0m line \u001b[0;36m1\n\u001b[1;32m----> <a href='vscode-notebook-cell://github/lucabarri/python4ds/lectures/Lecture%204%20-%20Functions%20and%20Classes.ipynb#Y303sdnNjb2RlLXZmcw%3D%3D?line=0'>1</a>\u001b[0m my_dog\u001b[39m.\u001b[39;49mset_age(\u001b[39m1\u001b[39;49m\u001b[39m+\u001b[39;49m\u001b[39m1\u001b[39;49mj)\n",
      "\u001b[1;32mlucabarri\\python4ds\\lectures\\Lecture 4 - Functions and Classes.ipynb Cell 151\u001b[0m line \u001b[0;36m1\n\u001b[0;32m     <a href='vscode-notebook-cell://github/lucabarri/python4ds/lectures/Lecture%204%20-%20Functions%20and%20Classes.ipynb#Y303sdnNjb2RlLXZmcw%3D%3D?line=13'>14</a>\u001b[0m     \u001b[39mself\u001b[39m\u001b[39m.\u001b[39mage \u001b[39m=\u001b[39m age\n\u001b[0;32m     <a href='vscode-notebook-cell://github/lucabarri/python4ds/lectures/Lecture%204%20-%20Functions%20and%20Classes.ipynb#Y303sdnNjb2RlLXZmcw%3D%3D?line=14'>15</a>\u001b[0m \u001b[39melse\u001b[39;00m:\n\u001b[1;32m---> <a href='vscode-notebook-cell://github/lucabarri/python4ds/lectures/Lecture%204%20-%20Functions%20and%20Classes.ipynb#Y303sdnNjb2RlLXZmcw%3D%3D?line=15'>16</a>\u001b[0m     \u001b[39mraise\u001b[39;00m \u001b[39mAttributeError\u001b[39;00m(\u001b[39mf\u001b[39m\u001b[39m\"\u001b[39m\u001b[39mExpected age to be int, but got \u001b[39m\u001b[39m{\u001b[39;00m\u001b[39mtype\u001b[39m(age)\u001b[39m}\u001b[39;00m\u001b[39m\"\u001b[39m)\n",
      "\u001b[1;31mAttributeError\u001b[0m: Expected age to be int, but got <class 'complex'>"
     ]
    }
   ],
   "source": [
    "my_dog.set_age(1+1j)"
   ]
  },
  {
   "cell_type": "markdown",
   "id": "ef8aa487",
   "metadata": {},
   "source": [
    "this method creates a preferred way to setting attributes, but users can still directly modify the attributes, e.g.,"
   ]
  },
  {
   "cell_type": "code",
   "execution_count": 75,
   "id": "fd0ca451",
   "metadata": {},
   "outputs": [],
   "source": [
    "my_dog.age = 1 + 1j"
   ]
  },
  {
   "cell_type": "code",
   "execution_count": 76,
   "id": "b459f79b",
   "metadata": {},
   "outputs": [
    {
     "name": "stdout",
     "output_type": "stream",
     "text": [
      "My dog's name is Rex\n",
      "My dog's is (1+1j) years old\n"
     ]
    }
   ],
   "source": [
    "print(f\"My dog's name is {my_dog.name}\")\n",
    "print(f\"My dog's is {my_dog.age} years old\")"
   ]
  },
  {
   "cell_type": "markdown",
   "id": "f64d6932",
   "metadata": {},
   "source": [
    "this problem can be solved via private attributes,"
   ]
  },
  {
   "cell_type": "code",
   "execution_count": 2,
   "id": "da31d1e0",
   "metadata": {},
   "outputs": [],
   "source": [
    "class Dog:\n",
    "    def __init__(self, name, age):\n",
    "        self.__name = name\n",
    "        self.__age = age\n",
    "        \n",
    "    def set_name(self, name):\n",
    "        if type(name) is str:\n",
    "            self.__name = name\n",
    "        else:\n",
    "            raise AttributeError(f\"Expected name to be str, but got {type(name)}\")\n",
    "\n",
    "    def set_age(self, age):\n",
    "        if type(age) is int:\n",
    "            self.__age = age\n",
    "        else:\n",
    "            raise AttributeError(f\"Expected age to be int, but got {type(age)}\")\n",
    "\n",
    "    def get_name(self):\n",
    "        return self.__name\n",
    "\n",
    "    def get_age(self):\n",
    "        return self.__age\n",
    "            \n",
    "    def sit(self):\n",
    "        print(f\"{self._name} is now sitting.\")\n",
    "        \n",
    "    def roll_over(self):\n",
    "        print(f\"{self._name} rolled over!\")"
   ]
  },
  {
   "cell_type": "code",
   "execution_count": 3,
   "id": "d7e46cb4",
   "metadata": {},
   "outputs": [],
   "source": [
    "my_dog = Dog('Willie', 6)"
   ]
  },
  {
   "cell_type": "code",
   "execution_count": 4,
   "id": "3dc6e273",
   "metadata": {},
   "outputs": [],
   "source": [
    "my_dog.var = -1"
   ]
  },
  {
   "cell_type": "code",
   "execution_count": 5,
   "id": "33c75784",
   "metadata": {},
   "outputs": [],
   "source": [
    "my_dog2 = Dog('Rex', 10)"
   ]
  },
  {
   "cell_type": "code",
   "execution_count": 6,
   "id": "2284c833",
   "metadata": {},
   "outputs": [
    {
     "ename": "AttributeError",
     "evalue": "'Dog' object has no attribute 'var'",
     "output_type": "error",
     "traceback": [
      "\u001b[0;31m---------------------------------------------------------------------------\u001b[0m",
      "\u001b[0;31mAttributeError\u001b[0m                            Traceback (most recent call last)",
      "Cell \u001b[0;32mIn[6], line 1\u001b[0m\n\u001b[0;32m----> 1\u001b[0m \u001b[43mmy_dog2\u001b[49m\u001b[38;5;241;43m.\u001b[39;49m\u001b[43mvar\u001b[49m\n",
      "\u001b[0;31mAttributeError\u001b[0m: 'Dog' object has no attribute 'var'"
     ]
    }
   ],
   "source": [
    "my_dog2.var"
   ]
  },
  {
   "cell_type": "code",
   "execution_count": 119,
   "id": "fd868be8",
   "metadata": {},
   "outputs": [
    {
     "name": "stdout",
     "output_type": "stream",
     "text": [
      "My dog's name is Willie\n",
      "My dog's is 6 years old\n"
     ]
    }
   ],
   "source": [
    "print(f\"My dog's name is {my_dog.get_name()}\")\n",
    "print(f\"My dog's is {my_dog.get_age()} years old\")"
   ]
  },
  {
   "cell_type": "markdown",
   "id": "abae4bf3",
   "metadata": {},
   "source": [
    "privat attributes cannot be acessed,"
   ]
  },
  {
   "cell_type": "code",
   "execution_count": 80,
   "id": "82ebe924",
   "metadata": {},
   "outputs": [
    {
     "ename": "AttributeError",
     "evalue": "'Dog' object has no attribute '__name'",
     "output_type": "error",
     "traceback": [
      "\u001b[1;31m---------------------------------------------------------------------------\u001b[0m",
      "\u001b[1;31mAttributeError\u001b[0m                            Traceback (most recent call last)",
      "\u001b[1;32mlucabarri\\python4ds\\lectures\\Lecture 4 - Functions and Classes.ipynb Cell 160\u001b[0m line \u001b[0;36m1\n\u001b[1;32m----> <a href='vscode-notebook-cell://github/lucabarri/python4ds/lectures/Lecture%204%20-%20Functions%20and%20Classes.ipynb#Y315sdnNjb2RlLXZmcw%3D%3D?line=0'>1</a>\u001b[0m my_dog\u001b[39m.\u001b[39;49m__name\n",
      "\u001b[1;31mAttributeError\u001b[0m: 'Dog' object has no attribute '__name'"
     ]
    }
   ],
   "source": [
    "my_dog.__name"
   ]
  },
  {
   "cell_type": "markdown",
   "id": "5c9ebc1b",
   "metadata": {},
   "source": [
    "so that one's forced to use ```get_name``` or ```get_age```,"
   ]
  },
  {
   "cell_type": "code",
   "execution_count": 81,
   "id": "377a2c18",
   "metadata": {},
   "outputs": [
    {
     "data": {
      "text/plain": [
       "'Willie'"
      ]
     },
     "execution_count": 81,
     "metadata": {},
     "output_type": "execute_result"
    }
   ],
   "source": [
    "my_dog.get_name()"
   ]
  },
  {
   "cell_type": "code",
   "execution_count": 82,
   "id": "7128f2a2",
   "metadata": {
    "scrolled": true
   },
   "outputs": [
    {
     "data": {
      "text/plain": [
       "6"
      ]
     },
     "execution_count": 82,
     "metadata": {},
     "output_type": "execute_result"
    }
   ],
   "source": [
    "my_dog.get_age()"
   ]
  },
  {
   "cell_type": "markdown",
   "id": "bb95a843",
   "metadata": {},
   "source": [
    "__Warning.__ The behavior of private variables is somewhat bizarre. Let's start by inspecting the methods and attributes from the class, through ```dir```,"
   ]
  },
  {
   "cell_type": "code",
   "execution_count": 83,
   "id": "00367b11",
   "metadata": {},
   "outputs": [
    {
     "name": "stdout",
     "output_type": "stream",
     "text": [
      "Help on built-in function dir in module builtins:\n",
      "\n",
      "dir(...)\n",
      "    dir([object]) -> list of strings\n",
      "    \n",
      "    If called without an argument, return the names in the current scope.\n",
      "    Else, return an alphabetized list of names comprising (some of) the attributes\n",
      "    of the given object, and of attributes reachable from it.\n",
      "    If the object supplies a method named __dir__, it will be used; otherwise\n",
      "    the default dir() logic is used and returns:\n",
      "      for a module object: the module's attributes.\n",
      "      for a class object:  its attributes, and recursively the attributes\n",
      "        of its bases.\n",
      "      for any other object: its attributes, its class's attributes, and\n",
      "        recursively the attributes of its class's base classes.\n",
      "\n"
     ]
    }
   ],
   "source": [
    "help(dir)"
   ]
  },
  {
   "cell_type": "code",
   "execution_count": 1,
   "id": "700d63cc",
   "metadata": {},
   "outputs": [
    {
     "ename": "NameError",
     "evalue": "name 'my_dog' is not defined",
     "output_type": "error",
     "traceback": [
      "\u001b[0;31m---------------------------------------------------------------------------\u001b[0m",
      "\u001b[0;31mNameError\u001b[0m                                 Traceback (most recent call last)",
      "Cell \u001b[0;32mIn[1], line 1\u001b[0m\n\u001b[0;32m----> 1\u001b[0m \u001b[43mmy_dog\u001b[49m\n",
      "\u001b[0;31mNameError\u001b[0m: name 'my_dog' is not defined"
     ]
    }
   ],
   "source": [
    "my_dog"
   ]
  },
  {
   "cell_type": "markdown",
   "id": "46bbbdfa",
   "metadata": {},
   "source": [
    "__important__ the attributes of the class ```Dog``` are indicated as ```_Dog__age``` and ```_Dog__name```. When you try to assign a value for the private variable,"
   ]
  },
  {
   "cell_type": "code",
   "execution_count": 85,
   "id": "678f81c9",
   "metadata": {},
   "outputs": [],
   "source": [
    "my_dog.__name = 1 + 1j"
   ]
  },
  {
   "cell_type": "markdown",
   "id": "eba59162",
   "metadata": {},
   "source": [
    "Python lets you. This is somewhat bizarre and contradictory. Let us make sense of that. You can see that ```.__name``` is not private anymore,"
   ]
  },
  {
   "cell_type": "code",
   "execution_count": 86,
   "id": "e4e25791",
   "metadata": {},
   "outputs": [
    {
     "name": "stdout",
     "output_type": "stream",
     "text": [
      "(1+1j)\n"
     ]
    }
   ],
   "source": [
    "print(my_dog.__name)"
   ]
  },
  {
   "cell_type": "markdown",
   "id": "11b1d6b7",
   "metadata": {},
   "source": [
    "even worse... When you use ```.get_name()```,"
   ]
  },
  {
   "cell_type": "code",
   "execution_count": 87,
   "id": "1d62833e",
   "metadata": {},
   "outputs": [
    {
     "name": "stdout",
     "output_type": "stream",
     "text": [
      "Willie\n"
     ]
    }
   ],
   "source": [
    "print(my_dog.get_name())"
   ]
  },
  {
   "cell_type": "markdown",
   "id": "4a860ac2",
   "metadata": {},
   "source": [
    "one still gets the correct name. Actually, the assignment creates a __new, non-private, independent attribute__, called ```.__name```. Here you can make sense of it,"
   ]
  },
  {
   "cell_type": "code",
   "execution_count": 88,
   "id": "04aaa05e",
   "metadata": {},
   "outputs": [
    {
     "data": {
      "text/plain": [
       "['_Dog__age',\n",
       " '_Dog__name',\n",
       " '__class__',\n",
       " '__delattr__',\n",
       " '__dict__',\n",
       " '__dir__',\n",
       " '__doc__',\n",
       " '__eq__',\n",
       " '__format__',\n",
       " '__ge__',\n",
       " '__getattribute__',\n",
       " '__getstate__',\n",
       " '__gt__',\n",
       " '__hash__',\n",
       " '__init__',\n",
       " '__init_subclass__',\n",
       " '__le__',\n",
       " '__lt__',\n",
       " '__module__',\n",
       " '__name',\n",
       " '__ne__',\n",
       " '__new__',\n",
       " '__reduce__',\n",
       " '__reduce_ex__',\n",
       " '__repr__',\n",
       " '__setattr__',\n",
       " '__sizeof__',\n",
       " '__str__',\n",
       " '__subclasshook__',\n",
       " '__weakref__',\n",
       " 'get_age',\n",
       " 'get_name',\n",
       " 'roll_over',\n",
       " 'set_age',\n",
       " 'set_name',\n",
       " 'sit']"
      ]
     },
     "execution_count": 88,
     "metadata": {},
     "output_type": "execute_result"
    }
   ],
   "source": [
    "dir(my_dog)"
   ]
  },
  {
   "cell_type": "markdown",
   "id": "bc7e1256",
   "metadata": {},
   "source": [
    "as such, Python __does not__ let you directly modify a private variable."
   ]
  },
  {
   "cell_type": "code",
   "execution_count": 114,
   "id": "a2ca61f8",
   "metadata": {},
   "outputs": [
    {
     "name": "stdout",
     "output_type": "stream",
     "text": [
      "(1+1j)\n",
      "Rex\n"
     ]
    }
   ],
   "source": [
    "my_dog.set_name('Rex')\n",
    "\n",
    "print(my_dog.__name)\n",
    "print(my_dog.get_name())"
   ]
  },
  {
   "cell_type": "markdown",
   "id": "93e97f62",
   "metadata": {},
   "source": [
    "Overall, the usage of underscores makes it implicit that you should not (and that you should use ```set_name``` instead). My advice is: avoid setting private attributes. If you use them, make sure your class have a set and a get method."
   ]
  },
  {
   "cell_type": "markdown",
   "id": "9c30fb34",
   "metadata": {},
   "source": [
    "### Inheritance"
   ]
  },
  {
   "cell_type": "markdown",
   "id": "7cd6c3fe",
   "metadata": {},
   "source": [
    "To illustrate the concept of inheritance, let us consider a class representing a person,"
   ]
  },
  {
   "cell_type": "code",
   "execution_count": 117,
   "id": "b27facab",
   "metadata": {},
   "outputs": [],
   "source": [
    "class Person:\n",
    "    def __init__(self, first_name, last_name):\n",
    "        self.first_name = first_name\n",
    "        self.last_name = last_name\n",
    "        \n",
    "    def printname(self):\n",
    "        return f\"This is a person, called {self.first_name} {self.last_name}\""
   ]
  },
  {
   "cell_type": "markdown",
   "id": "ebd5566b",
   "metadata": {},
   "source": [
    "here's an instance of such class,"
   ]
  },
  {
   "cell_type": "code",
   "execution_count": 118,
   "id": "7cb02304",
   "metadata": {},
   "outputs": [
    {
     "data": {
      "text/plain": [
       "'This is a person, called Eduardo Montesuma'"
      ]
     },
     "execution_count": 118,
     "metadata": {},
     "output_type": "execute_result"
    }
   ],
   "source": [
    "me = Person(\"Eduardo\", \"Montesuma\")\n",
    "me.printname()"
   ]
  },
  {
   "cell_type": "markdown",
   "id": "3c2a962a",
   "metadata": {},
   "source": [
    "In object-oriented languages, you can create classes based on other classes. This is call inheritance. In Python, the __syntax__ goes like that,"
   ]
  },
  {
   "cell_type": "code",
   "execution_count": 119,
   "id": "19fed81e",
   "metadata": {},
   "outputs": [],
   "source": [
    "class Student(Person):\n",
    "    pass"
   ]
  },
  {
   "cell_type": "markdown",
   "id": "234c709b",
   "metadata": {},
   "source": [
    "note that, if we do nothing, the inheritance mechanism is able to __copy__ the workings of the __parent__ class,"
   ]
  },
  {
   "cell_type": "code",
   "execution_count": 1,
   "id": "42c249d3",
   "metadata": {},
   "outputs": [
    {
     "ename": "NameError",
     "evalue": "name 'Student' is not defined",
     "output_type": "error",
     "traceback": [
      "\u001b[1;31m---------------------------------------------------------------------------\u001b[0m",
      "\u001b[1;31mNameError\u001b[0m                                 Traceback (most recent call last)",
      "\u001b[1;32mlucabarri\\python4ds\\lectures\\Lecture 4 - Functions and Classes.ipynb Cell 186\u001b[0m line \u001b[0;36m1\n\u001b[1;32m----> <a href='vscode-notebook-cell://github/lucabarri/python4ds/lectures/Lecture%204%20-%20Functions%20and%20Classes.ipynb#Y353sdnNjb2RlLXZmcw%3D%3D?line=0'>1</a>\u001b[0m me \u001b[39m=\u001b[39m Student(\u001b[39m\"\u001b[39m\u001b[39mEduardo\u001b[39m\u001b[39m\"\u001b[39m, \u001b[39m\"\u001b[39m\u001b[39mMontesuma\u001b[39m\u001b[39m\"\u001b[39m)\n\u001b[0;32m      <a href='vscode-notebook-cell://github/lucabarri/python4ds/lectures/Lecture%204%20-%20Functions%20and%20Classes.ipynb#Y353sdnNjb2RlLXZmcw%3D%3D?line=1'>2</a>\u001b[0m me\u001b[39m.\u001b[39mprintname()\n",
      "\u001b[1;31mNameError\u001b[0m: name 'Student' is not defined"
     ]
    }
   ],
   "source": [
    "me = Student(\"Eduardo\", \"Montesuma\")\n",
    "me.printname()"
   ]
  },
  {
   "cell_type": "markdown",
   "id": "7673b5c2",
   "metadata": {},
   "source": [
    "otherwise, we can implement something else using the class Student,"
   ]
  },
  {
   "cell_type": "code",
   "execution_count": 127,
   "id": "d6414dfd",
   "metadata": {},
   "outputs": [],
   "source": [
    "class Student(Person):\n",
    "    def __init__(self, first_name, last_name, graduation_year):\n",
    "        super(Student, self).__init__(first_name, last_name)\n",
    "        self.graduation_year = graduation_year\n",
    "        \n",
    "    def printname(self):\n",
    "        return f\"This is a student (graduation expected on {self.graduation_year}), called {self.first_name} {self.last_name}\""
   ]
  },
  {
   "cell_type": "code",
   "execution_count": 130,
   "id": "226f91e8",
   "metadata": {},
   "outputs": [],
   "source": [
    "me = Student(\"Eduardo\", \"Montesuma\", 2024)\n",
    "me.printname()\n",
    "\n",
    "luca = Student(\"Luca\", \"Barriviera\", 2001)"
   ]
  },
  {
   "cell_type": "markdown",
   "id": "a57ee8fc",
   "metadata": {},
   "source": [
    "here, a lot is going on.\n",
    "\n",
    "First, on ```__init___```, we define an object relying on its parent class, through the call of ```super```. this reserved name is used to call a method (in this case, the constructor) of the class Student. For instance, you could do,"
   ]
  },
  {
   "cell_type": "code",
   "execution_count": null,
   "id": "7f96d3bc",
   "metadata": {},
   "outputs": [
    {
     "data": {
      "text/plain": [
       "'This is a person, called Eduardo Montesuma'"
      ]
     },
     "execution_count": 96,
     "metadata": {},
     "output_type": "execute_result"
    }
   ],
   "source": [
    "super(Student, me).printname()"
   ]
  },
  {
   "cell_type": "markdown",
   "id": "7330d2dc",
   "metadata": {},
   "source": [
    "and it executes ```printname``` from the parent class. Here's the definition of the ```super``` reserved name,"
   ]
  },
  {
   "cell_type": "code",
   "execution_count": 97,
   "id": "2aa89854",
   "metadata": {},
   "outputs": [
    {
     "name": "stdout",
     "output_type": "stream",
     "text": [
      "Help on class super in module builtins:\n",
      "\n",
      "class super(object)\n",
      " |  super() -> same as super(__class__, <first argument>)\n",
      " |  super(type) -> unbound super object\n",
      " |  super(type, obj) -> bound super object; requires isinstance(obj, type)\n",
      " |  super(type, type2) -> bound super object; requires issubclass(type2, type)\n",
      " |  Typical use to call a cooperative superclass method:\n",
      " |  class C(B):\n",
      " |      def meth(self, arg):\n",
      " |          super().meth(arg)\n",
      " |  This works for class methods too:\n",
      " |  class C(B):\n",
      " |      @classmethod\n",
      " |      def cmeth(cls, arg):\n",
      " |          super().cmeth(arg)\n",
      " |  \n",
      " |  Methods defined here:\n",
      " |  \n",
      " |  __get__(self, instance, owner=None, /)\n",
      " |      Return an attribute of instance, which is of type owner.\n",
      " |  \n",
      " |  __getattribute__(self, name, /)\n",
      " |      Return getattr(self, name).\n",
      " |  \n",
      " |  __init__(self, /, *args, **kwargs)\n",
      " |      Initialize self.  See help(type(self)) for accurate signature.\n",
      " |  \n",
      " |  __repr__(self, /)\n",
      " |      Return repr(self).\n",
      " |  \n",
      " |  ----------------------------------------------------------------------\n",
      " |  Static methods defined here:\n",
      " |  \n",
      " |  __new__(*args, **kwargs) from builtins.type\n",
      " |      Create and return a new object.  See help(type) for accurate signature.\n",
      " |  \n",
      " |  ----------------------------------------------------------------------\n",
      " |  Data descriptors defined here:\n",
      " |  \n",
      " |  __self__\n",
      " |      the instance invoking super(); may be None\n",
      " |  \n",
      " |  __self_class__\n",
      " |      the type of the instance invoking super(); may be None\n",
      " |  \n",
      " |  __thisclass__\n",
      " |      the class invoking super()\n",
      "\n"
     ]
    }
   ],
   "source": [
    "help(super)"
   ]
  },
  {
   "cell_type": "markdown",
   "id": "91c657cf",
   "metadata": {},
   "source": [
    "second, the method ```printname``` of the parent class ```Person``` was overriden by ```printname``` of the class ```Student```. This is evidenced by the different executions of the two methods,"
   ]
  },
  {
   "cell_type": "code",
   "execution_count": 98,
   "id": "3f43bccf",
   "metadata": {},
   "outputs": [
    {
     "name": "stdout",
     "output_type": "stream",
     "text": [
      "This is a student (graduation expected on 2024), called Eduardo Montesuma\n",
      "This is a person, called Eduardo Montesuma\n"
     ]
    }
   ],
   "source": [
    "me = Student(\"Eduardo\", \"Montesuma\", 2024)\n",
    "\n",
    "# Calling printname of the class Student\n",
    "print(me.printname())\n",
    "\n",
    "# Calling printname of the class Person\n",
    "print(super(Student, me).printname())"
   ]
  },
  {
   "cell_type": "markdown",
   "id": "cab9576f",
   "metadata": {},
   "source": [
    "### ```__str__``` and ```__repr__```"
   ]
  },
  {
   "cell_type": "markdown",
   "id": "dd26ed53",
   "metadata": {},
   "source": [
    "Let us take the opportunity to talk about some built-in methods.\n",
    "\n",
    "First, ```__str__``` is used for returning a __string representing an object__. Let us revisit the last example,"
   ]
  },
  {
   "cell_type": "code",
   "execution_count": 99,
   "id": "daaf7050",
   "metadata": {},
   "outputs": [],
   "source": [
    "class Person:\n",
    "    def __init__(self, first_name, last_name):\n",
    "        self.first_name = first_name\n",
    "        self.last_name = last_name\n",
    "        \n",
    "    def printname(self):\n",
    "        return f\"This is a person, called {self.first_name} {self.last_name}\""
   ]
  },
  {
   "cell_type": "code",
   "execution_count": 100,
   "id": "d6d907b1",
   "metadata": {},
   "outputs": [
    {
     "name": "stdout",
     "output_type": "stream",
     "text": [
      "<__main__.Person object at 0x0000023643B83990> \n",
      " <__main__.Person object at 0x0000023643B83990> \n",
      " <__main__.Person object at 0x0000023643B83990>\n"
     ]
    }
   ],
   "source": [
    "me = Person(\"Eduardo\", \"Montesuma\")\n",
    "\n",
    "print(me, '\\n', str(me), '\\n', repr(me))"
   ]
  },
  {
   "cell_type": "markdown",
   "id": "9c80e753",
   "metadata": {},
   "source": [
    "note that, here, when you print the object or convert it into a stirng, it is something not readable (it actually indicates the place in memory the object occupies). Instead, consider this,"
   ]
  },
  {
   "cell_type": "code",
   "execution_count": 101,
   "id": "5dfa32f8",
   "metadata": {},
   "outputs": [],
   "source": [
    "class Person:\n",
    "    def __init__(self, first_name, last_name):\n",
    "        self.first_name = first_name\n",
    "        self.last_name = last_name\n",
    "        \n",
    "    def __str__(self):\n",
    "        return f\"This is a person, called {self.first_name} {self.last_name}\""
   ]
  },
  {
   "cell_type": "code",
   "execution_count": 102,
   "id": "8e165609",
   "metadata": {},
   "outputs": [
    {
     "name": "stdout",
     "output_type": "stream",
     "text": [
      "This is a person, called Eduardo Montesuma\n"
     ]
    }
   ],
   "source": [
    "me = Person(\"Eduardo\", \"Montesuma\")\n",
    "\n",
    "print(me)"
   ]
  },
  {
   "cell_type": "markdown",
   "id": "9fd0f59f",
   "metadata": {},
   "source": [
    "now, the string representation of a ```Person``` object is much more readable, and you can directly use it in the function ```print```. The method ```__repr__``` goes in the same sense, but it is a convention that this method should be __unambiguous__ (which is arguably vague and subjective). Here's an example,"
   ]
  },
  {
   "cell_type": "code",
   "execution_count": 103,
   "id": "2a66ed6c",
   "metadata": {},
   "outputs": [],
   "source": [
    "class Person:\n",
    "    def __init__(self, first_name, last_name):\n",
    "        self.first_name = first_name\n",
    "        self.last_name = last_name\n",
    "        \n",
    "    def __str__(self):\n",
    "        return f\"This is a person, called {self.first_name} {self.last_name}\"\n",
    "    \n",
    "    def __repr__(self):\n",
    "        return f\"Person({self.first_name},{self.last_name})\""
   ]
  },
  {
   "cell_type": "code",
   "execution_count": 105,
   "id": "708ab76d",
   "metadata": {},
   "outputs": [
    {
     "name": "stdout",
     "output_type": "stream",
     "text": [
      "This is a person, called Luca Barriviera\n",
      "Person(Luca,Barriviera)\n"
     ]
    }
   ],
   "source": [
    "me = Person(\"Luca\", \"Barriviera\")\n",
    "\n",
    "print(me)\n",
    "print(repr(me))"
   ]
  }
 ],
 "metadata": {
  "kernelspec": {
   "display_name": "Python 3 (ipykernel)",
   "language": "python",
   "name": "python3"
  },
  "language_info": {
   "codemirror_mode": {
    "name": "ipython",
    "version": 3
   },
   "file_extension": ".py",
   "mimetype": "text/x-python",
   "name": "python",
   "nbconvert_exporter": "python",
   "pygments_lexer": "ipython3",
   "version": "3.11.5"
  }
 },
 "nbformat": 4,
 "nbformat_minor": 5
}
